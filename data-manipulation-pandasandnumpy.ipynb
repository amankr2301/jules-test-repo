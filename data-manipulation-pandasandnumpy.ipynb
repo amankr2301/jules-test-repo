{
 "cells": [
  {
   "cell_type": "code",
   "execution_count": 1,
   "id": "102757fa",
   "metadata": {
    "_cell_guid": "b1076dfc-b9ad-4769-8c92-a6c4dae69d19",
    "_uuid": "8f2839f25d086af736a60e9eeb907d3b93b6e0e5",
    "execution": {
     "iopub.execute_input": "2025-10-24T11:53:05.230414Z",
     "iopub.status.busy": "2025-10-24T11:53:05.230034Z",
     "iopub.status.idle": "2025-10-24T11:53:07.048697Z",
     "shell.execute_reply": "2025-10-24T11:53:07.047549Z"
    },
    "papermill": {
     "duration": 1.82543,
     "end_time": "2025-10-24T11:53:07.050237",
     "exception": false,
     "start_time": "2025-10-24T11:53:05.224807",
     "status": "completed"
    },
    "tags": []
   },
   "outputs": [
    {
     "name": "stdout",
     "output_type": "stream",
     "text": [
      "/kaggle/input/bmw-worldwide-sales-records-20102024/BMW sales data (2010-2024) (1).csv\n"
     ]
    }
   ],
   "source": [
    "# This Python 3 environment comes with many helpful analytics libraries installed\n",
    "# It is defined by the kaggle/python Docker image: https://github.com/kaggle/docker-python\n",
    "# For example, here's several helpful packages to load\n",
    "\n",
    "import numpy as np # linear algebra\n",
    "import pandas as pd # data processing, CSV file I/O (e.g. pd.read_csv)\n",
    "\n",
    "# Input data files are available in the read-only \"../input/\" directory\n",
    "# For example, running this (by clicking run or pressing Shift+Enter) will list all files under the input directory\n",
    "\n",
    "import os\n",
    "for dirname, _, filenames in os.walk('/kaggle/input'):\n",
    "    for filename in filenames:\n",
    "        print(os.path.join(dirname, filename))\n",
    "\n",
    "# You can write up to 20GB to the current directory (/kaggle/working/) that gets preserved as output when you create a version using \"Save & Run All\" \n",
    "# You can also write temporary files to /kaggle/temp/, but they won't be saved outside of the current session"
   ]
  },
  {
   "cell_type": "code",
   "execution_count": 2,
   "id": "01ea54a3",
   "metadata": {
    "execution": {
     "iopub.execute_input": "2025-10-24T11:53:07.058807Z",
     "iopub.status.busy": "2025-10-24T11:53:07.058038Z",
     "iopub.status.idle": "2025-10-24T11:53:07.062172Z",
     "shell.execute_reply": "2025-10-24T11:53:07.061446Z"
    },
    "papermill": {
     "duration": 0.00953,
     "end_time": "2025-10-24T11:53:07.063421",
     "exception": false,
     "start_time": "2025-10-24T11:53:07.053891",
     "status": "completed"
    },
    "tags": []
   },
   "outputs": [],
   "source": [
    "import pandas as pd \n"
   ]
  },
  {
   "cell_type": "code",
   "execution_count": 3,
   "id": "721d538e",
   "metadata": {
    "execution": {
     "iopub.execute_input": "2025-10-24T11:53:07.071206Z",
     "iopub.status.busy": "2025-10-24T11:53:07.070941Z",
     "iopub.status.idle": "2025-10-24T11:53:07.096513Z",
     "shell.execute_reply": "2025-10-24T11:53:07.095678Z"
    },
    "papermill": {
     "duration": 0.031073,
     "end_time": "2025-10-24T11:53:07.097989",
     "exception": false,
     "start_time": "2025-10-24T11:53:07.066916",
     "status": "completed"
    },
    "tags": []
   },
   "outputs": [
    {
     "data": {
      "text/html": [
       "<div>\n",
       "<style scoped>\n",
       "    .dataframe tbody tr th:only-of-type {\n",
       "        vertical-align: middle;\n",
       "    }\n",
       "\n",
       "    .dataframe tbody tr th {\n",
       "        vertical-align: top;\n",
       "    }\n",
       "\n",
       "    .dataframe thead th {\n",
       "        text-align: right;\n",
       "    }\n",
       "</style>\n",
       "<table border=\"1\" class=\"dataframe\">\n",
       "  <thead>\n",
       "    <tr style=\"text-align: right;\">\n",
       "      <th></th>\n",
       "      <th>Car Make</th>\n",
       "      <th>Colour</th>\n",
       "    </tr>\n",
       "  </thead>\n",
       "  <tbody>\n",
       "    <tr>\n",
       "      <th>0</th>\n",
       "      <td>BMW</td>\n",
       "      <td>Red</td>\n",
       "    </tr>\n",
       "    <tr>\n",
       "      <th>1</th>\n",
       "      <td>Audi</td>\n",
       "      <td>Orange</td>\n",
       "    </tr>\n",
       "    <tr>\n",
       "      <th>2</th>\n",
       "      <td>Volkswagen</td>\n",
       "      <td>Silver</td>\n",
       "    </tr>\n",
       "  </tbody>\n",
       "</table>\n",
       "</div>"
      ],
      "text/plain": [
       "     Car Make  Colour\n",
       "0         BMW     Red\n",
       "1        Audi  Orange\n",
       "2  Volkswagen  Silver"
      ]
     },
     "execution_count": 3,
     "metadata": {},
     "output_type": "execute_result"
    }
   ],
   "source": [
    "car =pd.Series(['BMW' , 'Audi' , 'Volkswagen']) ; \n",
    "colours = pd.Series(['Red' , 'Orange' , 'Silver']) \n",
    "\n",
    "car_data = pd.DataFrame({'Car Make' : car , 'Colour' : colours}) ; \n",
    "car_data"
   ]
  },
  {
   "cell_type": "markdown",
   "id": "f15d81a8",
   "metadata": {
    "papermill": {
     "duration": 0.003229,
     "end_time": "2025-10-24T11:53:07.104776",
     "exception": false,
     "start_time": "2025-10-24T11:53:07.101547",
     "status": "completed"
    },
    "tags": []
   },
   "source": [
    "# Import Data "
   ]
  },
  {
   "cell_type": "code",
   "execution_count": 4,
   "id": "b9d2927d",
   "metadata": {
    "execution": {
     "iopub.execute_input": "2025-10-24T11:53:07.112966Z",
     "iopub.status.busy": "2025-10-24T11:53:07.112389Z",
     "iopub.status.idle": "2025-10-24T11:53:07.240399Z",
     "shell.execute_reply": "2025-10-24T11:53:07.239680Z"
    },
    "papermill": {
     "duration": 0.133838,
     "end_time": "2025-10-24T11:53:07.242019",
     "exception": false,
     "start_time": "2025-10-24T11:53:07.108181",
     "status": "completed"
    },
    "tags": []
   },
   "outputs": [],
   "source": [
    "# index number starting from 0 the row has axis = 0 and column has axis = 1¶\n",
    "car_sales = pd.read_csv(\"/kaggle/input/bmw-worldwide-sales-records-20102024/BMW sales data (2010-2024) (1).csv\")"
   ]
  },
  {
   "cell_type": "markdown",
   "id": "8ca53999",
   "metadata": {
    "papermill": {
     "duration": 0.003055,
     "end_time": "2025-10-24T11:53:07.248545",
     "exception": false,
     "start_time": "2025-10-24T11:53:07.245490",
     "status": "completed"
    },
    "tags": []
   },
   "source": [
    "# Exporting a DataFrame"
   ]
  },
  {
   "cell_type": "code",
   "execution_count": 5,
   "id": "67cad7af",
   "metadata": {
    "execution": {
     "iopub.execute_input": "2025-10-24T11:53:07.256473Z",
     "iopub.status.busy": "2025-10-24T11:53:07.255711Z",
     "iopub.status.idle": "2025-10-24T11:53:07.266298Z",
     "shell.execute_reply": "2025-10-24T11:53:07.265557Z"
    },
    "papermill": {
     "duration": 0.016086,
     "end_time": "2025-10-24T11:53:07.267841",
     "exception": false,
     "start_time": "2025-10-24T11:53:07.251755",
     "status": "completed"
    },
    "tags": []
   },
   "outputs": [],
   "source": [
    "export = car_data.head(10) ; \n",
    "export.to_csv(\"Exported_car_sales.csv\", index = False) ; "
   ]
  },
  {
   "cell_type": "code",
   "execution_count": 6,
   "id": "0349b7a1",
   "metadata": {
    "execution": {
     "iopub.execute_input": "2025-10-24T11:53:07.275781Z",
     "iopub.status.busy": "2025-10-24T11:53:07.275476Z",
     "iopub.status.idle": "2025-10-24T11:53:07.285427Z",
     "shell.execute_reply": "2025-10-24T11:53:07.284688Z"
    },
    "papermill": {
     "duration": 0.015465,
     "end_time": "2025-10-24T11:53:07.286842",
     "exception": false,
     "start_time": "2025-10-24T11:53:07.271377",
     "status": "completed"
    },
    "tags": []
   },
   "outputs": [
    {
     "data": {
      "text/html": [
       "<div>\n",
       "<style scoped>\n",
       "    .dataframe tbody tr th:only-of-type {\n",
       "        vertical-align: middle;\n",
       "    }\n",
       "\n",
       "    .dataframe tbody tr th {\n",
       "        vertical-align: top;\n",
       "    }\n",
       "\n",
       "    .dataframe thead th {\n",
       "        text-align: right;\n",
       "    }\n",
       "</style>\n",
       "<table border=\"1\" class=\"dataframe\">\n",
       "  <thead>\n",
       "    <tr style=\"text-align: right;\">\n",
       "      <th></th>\n",
       "      <th>Car Make</th>\n",
       "      <th>Colour</th>\n",
       "    </tr>\n",
       "  </thead>\n",
       "  <tbody>\n",
       "    <tr>\n",
       "      <th>0</th>\n",
       "      <td>BMW</td>\n",
       "      <td>Red</td>\n",
       "    </tr>\n",
       "    <tr>\n",
       "      <th>1</th>\n",
       "      <td>Audi</td>\n",
       "      <td>Orange</td>\n",
       "    </tr>\n",
       "    <tr>\n",
       "      <th>2</th>\n",
       "      <td>Volkswagen</td>\n",
       "      <td>Silver</td>\n",
       "    </tr>\n",
       "  </tbody>\n",
       "</table>\n",
       "</div>"
      ],
      "text/plain": [
       "     Car Make  Colour\n",
       "0         BMW     Red\n",
       "1        Audi  Orange\n",
       "2  Volkswagen  Silver"
      ]
     },
     "execution_count": 6,
     "metadata": {},
     "output_type": "execute_result"
    }
   ],
   "source": [
    "exported_data = pd.read_csv(\"Exported_car_sales.csv\")\n",
    "exported_data \n"
   ]
  },
  {
   "cell_type": "markdown",
   "id": "02bd566f",
   "metadata": {
    "papermill": {
     "duration": 0.00312,
     "end_time": "2025-10-24T11:53:07.293590",
     "exception": false,
     "start_time": "2025-10-24T11:53:07.290470",
     "status": "completed"
    },
    "tags": []
   },
   "source": [
    "# Describe Data "
   ]
  },
  {
   "cell_type": "code",
   "execution_count": 7,
   "id": "d945c417",
   "metadata": {
    "execution": {
     "iopub.execute_input": "2025-10-24T11:53:07.301545Z",
     "iopub.status.busy": "2025-10-24T11:53:07.300841Z",
     "iopub.status.idle": "2025-10-24T11:53:07.306841Z",
     "shell.execute_reply": "2025-10-24T11:53:07.306120Z"
    },
    "papermill": {
     "duration": 0.011174,
     "end_time": "2025-10-24T11:53:07.308034",
     "exception": false,
     "start_time": "2025-10-24T11:53:07.296860",
     "status": "completed"
    },
    "tags": []
   },
   "outputs": [
    {
     "data": {
      "text/plain": [
       "Car Make    object\n",
       "Colour      object\n",
       "dtype: object"
      ]
     },
     "execution_count": 7,
     "metadata": {},
     "output_type": "execute_result"
    }
   ],
   "source": [
    "# Attribute \n",
    "exported_data.dtypes \n",
    "\n"
   ]
  },
  {
   "cell_type": "code",
   "execution_count": 8,
   "id": "a0bf7590",
   "metadata": {
    "execution": {
     "iopub.execute_input": "2025-10-24T11:53:07.316353Z",
     "iopub.status.busy": "2025-10-24T11:53:07.315769Z",
     "iopub.status.idle": "2025-10-24T11:53:07.322136Z",
     "shell.execute_reply": "2025-10-24T11:53:07.321298Z"
    },
    "papermill": {
     "duration": 0.011912,
     "end_time": "2025-10-24T11:53:07.323517",
     "exception": false,
     "start_time": "2025-10-24T11:53:07.311605",
     "status": "completed"
    },
    "tags": []
   },
   "outputs": [
    {
     "data": {
      "text/plain": [
       "Index(['Car Make', 'Colour'], dtype='object')"
      ]
     },
     "execution_count": 8,
     "metadata": {},
     "output_type": "execute_result"
    }
   ],
   "source": [
    "car_columns = exported_data.columns\n",
    "car_columns "
   ]
  },
  {
   "cell_type": "code",
   "execution_count": 9,
   "id": "3e2560b2",
   "metadata": {
    "execution": {
     "iopub.execute_input": "2025-10-24T11:53:07.332350Z",
     "iopub.status.busy": "2025-10-24T11:53:07.331546Z",
     "iopub.status.idle": "2025-10-24T11:53:07.337100Z",
     "shell.execute_reply": "2025-10-24T11:53:07.336402Z"
    },
    "papermill": {
     "duration": 0.011338,
     "end_time": "2025-10-24T11:53:07.338556",
     "exception": false,
     "start_time": "2025-10-24T11:53:07.327218",
     "status": "completed"
    },
    "tags": []
   },
   "outputs": [
    {
     "data": {
      "text/plain": [
       "RangeIndex(start=0, stop=3, step=1)"
      ]
     },
     "execution_count": 9,
     "metadata": {},
     "output_type": "execute_result"
    }
   ],
   "source": [
    "exported_data.index"
   ]
  },
  {
   "cell_type": "markdown",
   "id": "3b2ad139",
   "metadata": {
    "papermill": {
     "duration": 0.003506,
     "end_time": "2025-10-24T11:53:07.346008",
     "exception": false,
     "start_time": "2025-10-24T11:53:07.342502",
     "status": "completed"
    },
    "tags": []
   },
   "source": [
    "#                           Functions "
   ]
  },
  {
   "cell_type": "code",
   "execution_count": 10,
   "id": "2ec300cf",
   "metadata": {
    "execution": {
     "iopub.execute_input": "2025-10-24T11:53:07.354599Z",
     "iopub.status.busy": "2025-10-24T11:53:07.353947Z",
     "iopub.status.idle": "2025-10-24T11:53:07.360229Z",
     "shell.execute_reply": "2025-10-24T11:53:07.359403Z"
    },
    "papermill": {
     "duration": 0.012036,
     "end_time": "2025-10-24T11:53:07.361605",
     "exception": false,
     "start_time": "2025-10-24T11:53:07.349569",
     "status": "completed"
    },
    "tags": []
   },
   "outputs": [
    {
     "data": {
      "text/plain": [
       "Series([], dtype: float64)"
      ]
     },
     "execution_count": 10,
     "metadata": {},
     "output_type": "execute_result"
    }
   ],
   "source": [
    "exported_data.mean(numeric_only = True)\n"
   ]
  },
  {
   "cell_type": "code",
   "execution_count": 11,
   "id": "19cda166",
   "metadata": {
    "execution": {
     "iopub.execute_input": "2025-10-24T11:53:07.370403Z",
     "iopub.status.busy": "2025-10-24T11:53:07.370109Z",
     "iopub.status.idle": "2025-10-24T11:53:07.386682Z",
     "shell.execute_reply": "2025-10-24T11:53:07.385758Z"
    },
    "papermill": {
     "duration": 0.022542,
     "end_time": "2025-10-24T11:53:07.388065",
     "exception": false,
     "start_time": "2025-10-24T11:53:07.365523",
     "status": "completed"
    },
    "tags": []
   },
   "outputs": [
    {
     "data": {
      "text/html": [
       "<div>\n",
       "<style scoped>\n",
       "    .dataframe tbody tr th:only-of-type {\n",
       "        vertical-align: middle;\n",
       "    }\n",
       "\n",
       "    .dataframe tbody tr th {\n",
       "        vertical-align: top;\n",
       "    }\n",
       "\n",
       "    .dataframe thead th {\n",
       "        text-align: right;\n",
       "    }\n",
       "</style>\n",
       "<table border=\"1\" class=\"dataframe\">\n",
       "  <thead>\n",
       "    <tr style=\"text-align: right;\">\n",
       "      <th></th>\n",
       "      <th>Car Make</th>\n",
       "      <th>Colour</th>\n",
       "    </tr>\n",
       "  </thead>\n",
       "  <tbody>\n",
       "    <tr>\n",
       "      <th>count</th>\n",
       "      <td>3</td>\n",
       "      <td>3</td>\n",
       "    </tr>\n",
       "    <tr>\n",
       "      <th>unique</th>\n",
       "      <td>3</td>\n",
       "      <td>3</td>\n",
       "    </tr>\n",
       "    <tr>\n",
       "      <th>top</th>\n",
       "      <td>BMW</td>\n",
       "      <td>Red</td>\n",
       "    </tr>\n",
       "    <tr>\n",
       "      <th>freq</th>\n",
       "      <td>1</td>\n",
       "      <td>1</td>\n",
       "    </tr>\n",
       "  </tbody>\n",
       "</table>\n",
       "</div>"
      ],
      "text/plain": [
       "       Car Make Colour\n",
       "count         3      3\n",
       "unique        3      3\n",
       "top         BMW    Red\n",
       "freq          1      1"
      ]
     },
     "execution_count": 11,
     "metadata": {},
     "output_type": "execute_result"
    }
   ],
   "source": [
    "# Describe works on only numeric columns \n",
    "exported_data.describe()"
   ]
  },
  {
   "cell_type": "code",
   "execution_count": 12,
   "id": "cf9987f5",
   "metadata": {
    "execution": {
     "iopub.execute_input": "2025-10-24T11:53:07.397237Z",
     "iopub.status.busy": "2025-10-24T11:53:07.396731Z",
     "iopub.status.idle": "2025-10-24T11:53:07.410995Z",
     "shell.execute_reply": "2025-10-24T11:53:07.409975Z"
    },
    "papermill": {
     "duration": 0.020309,
     "end_time": "2025-10-24T11:53:07.412381",
     "exception": false,
     "start_time": "2025-10-24T11:53:07.392072",
     "status": "completed"
    },
    "tags": []
   },
   "outputs": [
    {
     "name": "stdout",
     "output_type": "stream",
     "text": [
      "<class 'pandas.core.frame.DataFrame'>\n",
      "RangeIndex: 3 entries, 0 to 2\n",
      "Data columns (total 2 columns):\n",
      " #   Column    Non-Null Count  Dtype \n",
      "---  ------    --------------  ----- \n",
      " 0   Car Make  3 non-null      object\n",
      " 1   Colour    3 non-null      object\n",
      "dtypes: object(2)\n",
      "memory usage: 180.0+ bytes\n"
     ]
    }
   ],
   "source": [
    "exported_data.info ()"
   ]
  },
  {
   "cell_type": "code",
   "execution_count": null,
   "id": "79a23282",
   "metadata": {
    "papermill": {
     "duration": 0.003587,
     "end_time": "2025-10-24T11:53:07.419969",
     "exception": false,
     "start_time": "2025-10-24T11:53:07.416382",
     "status": "completed"
    },
    "tags": []
   },
   "outputs": [],
   "source": []
  }
 ],
 "metadata": {
  "kaggle": {
   "accelerator": "none",
   "dataSources": [
    {
     "datasetId": 8310166,
     "sourceId": 13118373,
     "sourceType": "datasetVersion"
    }
   ],
   "dockerImageVersionId": 31153,
   "isGpuEnabled": false,
   "isInternetEnabled": false,
   "language": "python",
   "sourceType": "notebook"
  },
  "kernelspec": {
   "display_name": "Python 3",
   "language": "python",
   "name": "python3"
  },
  "language_info": {
   "codemirror_mode": {
    "name": "ipython",
    "version": 3
   },
   "file_extension": ".py",
   "mimetype": "text/x-python",
   "name": "python",
   "nbconvert_exporter": "python",
   "pygments_lexer": "ipython3",
   "version": "3.11.13"
  },
  "papermill": {
   "default_parameters": {},
   "duration": 7.367102,
   "end_time": "2025-10-24T11:53:07.943580",
   "environment_variables": {},
   "exception": null,
   "input_path": "__notebook__.ipynb",
   "output_path": "__notebook__.ipynb",
   "parameters": {},
   "start_time": "2025-10-24T11:53:00.576478",
   "version": "2.6.0"
  }
 },
 "nbformat": 4,
 "nbformat_minor": 5
}
