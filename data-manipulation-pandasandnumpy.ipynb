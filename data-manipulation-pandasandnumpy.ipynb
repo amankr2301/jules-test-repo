{
 "cells": [
  {
   "cell_type": "code",
   "execution_count": 1,
   "id": "71e9a70f",
   "metadata": {
    "_cell_guid": "b1076dfc-b9ad-4769-8c92-a6c4dae69d19",
    "_uuid": "8f2839f25d086af736a60e9eeb907d3b93b6e0e5",
    "execution": {
     "iopub.execute_input": "2025-10-24T17:13:40.070537Z",
     "iopub.status.busy": "2025-10-24T17:13:40.070186Z",
     "iopub.status.idle": "2025-10-24T17:13:41.908603Z",
     "shell.execute_reply": "2025-10-24T17:13:41.907582Z"
    },
    "papermill": {
     "duration": 1.850046,
     "end_time": "2025-10-24T17:13:41.910059",
     "exception": false,
     "start_time": "2025-10-24T17:13:40.060013",
     "status": "completed"
    },
    "tags": []
   },
   "outputs": [
    {
     "name": "stdout",
     "output_type": "stream",
     "text": [
      "/kaggle/input/bmw-worldwide-sales-records-20102024/BMW sales data (2010-2024) (1).csv\n"
     ]
    }
   ],
   "source": [
    "# This Python 3 environment comes with many helpful analytics libraries installed\n",
    "# It is defined by the kaggle/python Docker image: https://github.com/kaggle/docker-python\n",
    "# For example, here's several helpful packages to load\n",
    "\n",
    "import numpy as np # linear algebra\n",
    "import pandas as pd # data processing, CSV file I/O (e.g. pd.read_csv)\n",
    "\n",
    "# Input data files are available in the read-only \"../input/\" directory\n",
    "# For example, running this (by clicking run or pressing Shift+Enter) will list all files under the input directory\n",
    "\n",
    "import os\n",
    "for dirname, _, filenames in os.walk('/kaggle/input'):\n",
    "    for filename in filenames:\n",
    "        print(os.path.join(dirname, filename))\n",
    "\n",
    "# You can write up to 20GB to the current directory (/kaggle/working/) that gets preserved as output when you create a version using \"Save & Run All\" \n",
    "# You can also write temporary files to /kaggle/temp/, but they won't be saved outside of the current session"
   ]
  },
  {
   "cell_type": "code",
   "execution_count": 2,
   "id": "90d42058",
   "metadata": {
    "execution": {
     "iopub.execute_input": "2025-10-24T17:13:41.928318Z",
     "iopub.status.busy": "2025-10-24T17:13:41.927390Z",
     "iopub.status.idle": "2025-10-24T17:13:41.931962Z",
     "shell.execute_reply": "2025-10-24T17:13:41.931126Z"
    },
    "papermill": {
     "duration": 0.014709,
     "end_time": "2025-10-24T17:13:41.933329",
     "exception": false,
     "start_time": "2025-10-24T17:13:41.918620",
     "status": "completed"
    },
    "tags": []
   },
   "outputs": [],
   "source": [
    "import pandas as pd \n"
   ]
  },
  {
   "cell_type": "code",
   "execution_count": 3,
   "id": "9b84bb7d",
   "metadata": {
    "execution": {
     "iopub.execute_input": "2025-10-24T17:13:41.951366Z",
     "iopub.status.busy": "2025-10-24T17:13:41.950762Z",
     "iopub.status.idle": "2025-10-24T17:13:41.979017Z",
     "shell.execute_reply": "2025-10-24T17:13:41.978089Z"
    },
    "papermill": {
     "duration": 0.03866,
     "end_time": "2025-10-24T17:13:41.980466",
     "exception": false,
     "start_time": "2025-10-24T17:13:41.941806",
     "status": "completed"
    },
    "tags": []
   },
   "outputs": [
    {
     "data": {
      "text/html": [
       "<div>\n",
       "<style scoped>\n",
       "    .dataframe tbody tr th:only-of-type {\n",
       "        vertical-align: middle;\n",
       "    }\n",
       "\n",
       "    .dataframe tbody tr th {\n",
       "        vertical-align: top;\n",
       "    }\n",
       "\n",
       "    .dataframe thead th {\n",
       "        text-align: right;\n",
       "    }\n",
       "</style>\n",
       "<table border=\"1\" class=\"dataframe\">\n",
       "  <thead>\n",
       "    <tr style=\"text-align: right;\">\n",
       "      <th></th>\n",
       "      <th>Car Make</th>\n",
       "      <th>Colour</th>\n",
       "    </tr>\n",
       "  </thead>\n",
       "  <tbody>\n",
       "    <tr>\n",
       "      <th>0</th>\n",
       "      <td>BMW</td>\n",
       "      <td>Red</td>\n",
       "    </tr>\n",
       "    <tr>\n",
       "      <th>1</th>\n",
       "      <td>Audi</td>\n",
       "      <td>Orange</td>\n",
       "    </tr>\n",
       "    <tr>\n",
       "      <th>2</th>\n",
       "      <td>Volkswagen</td>\n",
       "      <td>Silver</td>\n",
       "    </tr>\n",
       "  </tbody>\n",
       "</table>\n",
       "</div>"
      ],
      "text/plain": [
       "     Car Make  Colour\n",
       "0         BMW     Red\n",
       "1        Audi  Orange\n",
       "2  Volkswagen  Silver"
      ]
     },
     "execution_count": 3,
     "metadata": {},
     "output_type": "execute_result"
    }
   ],
   "source": [
    "car =pd.Series(['BMW' , 'Audi' , 'Volkswagen']) ; \n",
    "colours = pd.Series(['Red' , 'Orange' , 'Silver']) \n",
    "\n",
    "car_data = pd.DataFrame({'Car Make' : car , 'Colour' : colours}) ; \n",
    "car_data"
   ]
  },
  {
   "cell_type": "markdown",
   "id": "e8c61b22",
   "metadata": {
    "papermill": {
     "duration": 0.007852,
     "end_time": "2025-10-24T17:13:41.996555",
     "exception": false,
     "start_time": "2025-10-24T17:13:41.988703",
     "status": "completed"
    },
    "tags": []
   },
   "source": [
    "# Import Data "
   ]
  },
  {
   "cell_type": "code",
   "execution_count": 4,
   "id": "b36d212d",
   "metadata": {
    "execution": {
     "iopub.execute_input": "2025-10-24T17:13:42.014364Z",
     "iopub.status.busy": "2025-10-24T17:13:42.013664Z",
     "iopub.status.idle": "2025-10-24T17:13:42.203570Z",
     "shell.execute_reply": "2025-10-24T17:13:42.202605Z"
    },
    "papermill": {
     "duration": 0.200743,
     "end_time": "2025-10-24T17:13:42.205345",
     "exception": false,
     "start_time": "2025-10-24T17:13:42.004602",
     "status": "completed"
    },
    "tags": []
   },
   "outputs": [],
   "source": [
    "# index number starting from 0 the row has axis = 0 and column has axis = 1¶\n",
    "car_sales = pd.read_csv(\"/kaggle/input/bmw-worldwide-sales-records-20102024/BMW sales data (2010-2024) (1).csv\")"
   ]
  },
  {
   "cell_type": "markdown",
   "id": "82f3f528",
   "metadata": {
    "papermill": {
     "duration": 0.007978,
     "end_time": "2025-10-24T17:13:42.221570",
     "exception": false,
     "start_time": "2025-10-24T17:13:42.213592",
     "status": "completed"
    },
    "tags": []
   },
   "source": [
    "# Exporting a DataFrame"
   ]
  },
  {
   "cell_type": "code",
   "execution_count": 5,
   "id": "d574a19f",
   "metadata": {
    "execution": {
     "iopub.execute_input": "2025-10-24T17:13:42.238778Z",
     "iopub.status.busy": "2025-10-24T17:13:42.238486Z",
     "iopub.status.idle": "2025-10-24T17:13:42.250093Z",
     "shell.execute_reply": "2025-10-24T17:13:42.249386Z"
    },
    "papermill": {
     "duration": 0.022011,
     "end_time": "2025-10-24T17:13:42.251613",
     "exception": false,
     "start_time": "2025-10-24T17:13:42.229602",
     "status": "completed"
    },
    "tags": []
   },
   "outputs": [],
   "source": [
    "export = car_sales.head(10) ; \n",
    "export.to_csv(\"Exported_car_sales.csv\", index = False) ; "
   ]
  },
  {
   "cell_type": "code",
   "execution_count": 6,
   "id": "ac4e2bad",
   "metadata": {
    "execution": {
     "iopub.execute_input": "2025-10-24T17:13:42.269378Z",
     "iopub.status.busy": "2025-10-24T17:13:42.268832Z",
     "iopub.status.idle": "2025-10-24T17:13:42.285158Z",
     "shell.execute_reply": "2025-10-24T17:13:42.284305Z"
    },
    "papermill": {
     "duration": 0.026764,
     "end_time": "2025-10-24T17:13:42.286644",
     "exception": false,
     "start_time": "2025-10-24T17:13:42.259880",
     "status": "completed"
    },
    "tags": []
   },
   "outputs": [
    {
     "data": {
      "text/html": [
       "<div>\n",
       "<style scoped>\n",
       "    .dataframe tbody tr th:only-of-type {\n",
       "        vertical-align: middle;\n",
       "    }\n",
       "\n",
       "    .dataframe tbody tr th {\n",
       "        vertical-align: top;\n",
       "    }\n",
       "\n",
       "    .dataframe thead th {\n",
       "        text-align: right;\n",
       "    }\n",
       "</style>\n",
       "<table border=\"1\" class=\"dataframe\">\n",
       "  <thead>\n",
       "    <tr style=\"text-align: right;\">\n",
       "      <th></th>\n",
       "      <th>Model</th>\n",
       "      <th>Year</th>\n",
       "      <th>Region</th>\n",
       "      <th>Color</th>\n",
       "      <th>Fuel_Type</th>\n",
       "      <th>Transmission</th>\n",
       "      <th>Engine_Size_L</th>\n",
       "      <th>Mileage_KM</th>\n",
       "      <th>Price_USD</th>\n",
       "      <th>Sales_Volume</th>\n",
       "      <th>Sales_Classification</th>\n",
       "    </tr>\n",
       "  </thead>\n",
       "  <tbody>\n",
       "    <tr>\n",
       "      <th>0</th>\n",
       "      <td>5 Series</td>\n",
       "      <td>2016</td>\n",
       "      <td>Asia</td>\n",
       "      <td>Red</td>\n",
       "      <td>Petrol</td>\n",
       "      <td>Manual</td>\n",
       "      <td>3.5</td>\n",
       "      <td>151748</td>\n",
       "      <td>98740</td>\n",
       "      <td>8300</td>\n",
       "      <td>High</td>\n",
       "    </tr>\n",
       "    <tr>\n",
       "      <th>1</th>\n",
       "      <td>i8</td>\n",
       "      <td>2013</td>\n",
       "      <td>North America</td>\n",
       "      <td>Red</td>\n",
       "      <td>Hybrid</td>\n",
       "      <td>Automatic</td>\n",
       "      <td>1.6</td>\n",
       "      <td>121671</td>\n",
       "      <td>79219</td>\n",
       "      <td>3428</td>\n",
       "      <td>Low</td>\n",
       "    </tr>\n",
       "    <tr>\n",
       "      <th>2</th>\n",
       "      <td>5 Series</td>\n",
       "      <td>2022</td>\n",
       "      <td>North America</td>\n",
       "      <td>Blue</td>\n",
       "      <td>Petrol</td>\n",
       "      <td>Automatic</td>\n",
       "      <td>4.5</td>\n",
       "      <td>10991</td>\n",
       "      <td>113265</td>\n",
       "      <td>6994</td>\n",
       "      <td>Low</td>\n",
       "    </tr>\n",
       "    <tr>\n",
       "      <th>3</th>\n",
       "      <td>X3</td>\n",
       "      <td>2024</td>\n",
       "      <td>Middle East</td>\n",
       "      <td>Blue</td>\n",
       "      <td>Petrol</td>\n",
       "      <td>Automatic</td>\n",
       "      <td>1.7</td>\n",
       "      <td>27255</td>\n",
       "      <td>60971</td>\n",
       "      <td>4047</td>\n",
       "      <td>Low</td>\n",
       "    </tr>\n",
       "    <tr>\n",
       "      <th>4</th>\n",
       "      <td>7 Series</td>\n",
       "      <td>2020</td>\n",
       "      <td>South America</td>\n",
       "      <td>Black</td>\n",
       "      <td>Diesel</td>\n",
       "      <td>Manual</td>\n",
       "      <td>2.1</td>\n",
       "      <td>122131</td>\n",
       "      <td>49898</td>\n",
       "      <td>3080</td>\n",
       "      <td>Low</td>\n",
       "    </tr>\n",
       "    <tr>\n",
       "      <th>5</th>\n",
       "      <td>5 Series</td>\n",
       "      <td>2017</td>\n",
       "      <td>Middle East</td>\n",
       "      <td>Silver</td>\n",
       "      <td>Diesel</td>\n",
       "      <td>Manual</td>\n",
       "      <td>1.9</td>\n",
       "      <td>171362</td>\n",
       "      <td>42926</td>\n",
       "      <td>1232</td>\n",
       "      <td>Low</td>\n",
       "    </tr>\n",
       "    <tr>\n",
       "      <th>6</th>\n",
       "      <td>i8</td>\n",
       "      <td>2022</td>\n",
       "      <td>Europe</td>\n",
       "      <td>White</td>\n",
       "      <td>Diesel</td>\n",
       "      <td>Manual</td>\n",
       "      <td>1.8</td>\n",
       "      <td>196741</td>\n",
       "      <td>55064</td>\n",
       "      <td>7949</td>\n",
       "      <td>High</td>\n",
       "    </tr>\n",
       "    <tr>\n",
       "      <th>7</th>\n",
       "      <td>M5</td>\n",
       "      <td>2014</td>\n",
       "      <td>Asia</td>\n",
       "      <td>Black</td>\n",
       "      <td>Diesel</td>\n",
       "      <td>Automatic</td>\n",
       "      <td>1.6</td>\n",
       "      <td>121156</td>\n",
       "      <td>102778</td>\n",
       "      <td>632</td>\n",
       "      <td>Low</td>\n",
       "    </tr>\n",
       "    <tr>\n",
       "      <th>8</th>\n",
       "      <td>X3</td>\n",
       "      <td>2016</td>\n",
       "      <td>South America</td>\n",
       "      <td>White</td>\n",
       "      <td>Diesel</td>\n",
       "      <td>Automatic</td>\n",
       "      <td>1.7</td>\n",
       "      <td>48073</td>\n",
       "      <td>116482</td>\n",
       "      <td>8944</td>\n",
       "      <td>High</td>\n",
       "    </tr>\n",
       "    <tr>\n",
       "      <th>9</th>\n",
       "      <td>i8</td>\n",
       "      <td>2019</td>\n",
       "      <td>Europe</td>\n",
       "      <td>White</td>\n",
       "      <td>Electric</td>\n",
       "      <td>Manual</td>\n",
       "      <td>3.0</td>\n",
       "      <td>35700</td>\n",
       "      <td>96257</td>\n",
       "      <td>4411</td>\n",
       "      <td>Low</td>\n",
       "    </tr>\n",
       "  </tbody>\n",
       "</table>\n",
       "</div>"
      ],
      "text/plain": [
       "      Model  Year         Region   Color Fuel_Type Transmission  \\\n",
       "0  5 Series  2016           Asia     Red    Petrol       Manual   \n",
       "1        i8  2013  North America     Red    Hybrid    Automatic   \n",
       "2  5 Series  2022  North America    Blue    Petrol    Automatic   \n",
       "3        X3  2024    Middle East    Blue    Petrol    Automatic   \n",
       "4  7 Series  2020  South America   Black    Diesel       Manual   \n",
       "5  5 Series  2017    Middle East  Silver    Diesel       Manual   \n",
       "6        i8  2022         Europe   White    Diesel       Manual   \n",
       "7        M5  2014           Asia   Black    Diesel    Automatic   \n",
       "8        X3  2016  South America   White    Diesel    Automatic   \n",
       "9        i8  2019         Europe   White  Electric       Manual   \n",
       "\n",
       "   Engine_Size_L  Mileage_KM  Price_USD  Sales_Volume Sales_Classification  \n",
       "0            3.5      151748      98740          8300                 High  \n",
       "1            1.6      121671      79219          3428                  Low  \n",
       "2            4.5       10991     113265          6994                  Low  \n",
       "3            1.7       27255      60971          4047                  Low  \n",
       "4            2.1      122131      49898          3080                  Low  \n",
       "5            1.9      171362      42926          1232                  Low  \n",
       "6            1.8      196741      55064          7949                 High  \n",
       "7            1.6      121156     102778           632                  Low  \n",
       "8            1.7       48073     116482          8944                 High  \n",
       "9            3.0       35700      96257          4411                  Low  "
      ]
     },
     "execution_count": 6,
     "metadata": {},
     "output_type": "execute_result"
    }
   ],
   "source": [
    "exported_data = pd.read_csv(\"Exported_car_sales.csv\")\n",
    "exported_data \n"
   ]
  },
  {
   "cell_type": "markdown",
   "id": "14f160af",
   "metadata": {
    "papermill": {
     "duration": 0.008031,
     "end_time": "2025-10-24T17:13:42.303623",
     "exception": false,
     "start_time": "2025-10-24T17:13:42.295592",
     "status": "completed"
    },
    "tags": []
   },
   "source": [
    "# Describe Data "
   ]
  },
  {
   "cell_type": "code",
   "execution_count": 7,
   "id": "16903e06",
   "metadata": {
    "execution": {
     "iopub.execute_input": "2025-10-24T17:13:42.321362Z",
     "iopub.status.busy": "2025-10-24T17:13:42.321012Z",
     "iopub.status.idle": "2025-10-24T17:13:42.328089Z",
     "shell.execute_reply": "2025-10-24T17:13:42.327057Z"
    },
    "papermill": {
     "duration": 0.017732,
     "end_time": "2025-10-24T17:13:42.329603",
     "exception": false,
     "start_time": "2025-10-24T17:13:42.311871",
     "status": "completed"
    },
    "tags": []
   },
   "outputs": [
    {
     "data": {
      "text/plain": [
       "Model                    object\n",
       "Year                      int64\n",
       "Region                   object\n",
       "Color                    object\n",
       "Fuel_Type                object\n",
       "Transmission             object\n",
       "Engine_Size_L           float64\n",
       "Mileage_KM                int64\n",
       "Price_USD                 int64\n",
       "Sales_Volume              int64\n",
       "Sales_Classification     object\n",
       "dtype: object"
      ]
     },
     "execution_count": 7,
     "metadata": {},
     "output_type": "execute_result"
    }
   ],
   "source": [
    "# Attribute \n",
    "exported_data.dtypes \n",
    "\n"
   ]
  },
  {
   "cell_type": "code",
   "execution_count": 8,
   "id": "040afd78",
   "metadata": {
    "execution": {
     "iopub.execute_input": "2025-10-24T17:13:42.347934Z",
     "iopub.status.busy": "2025-10-24T17:13:42.347350Z",
     "iopub.status.idle": "2025-10-24T17:13:42.354512Z",
     "shell.execute_reply": "2025-10-24T17:13:42.353637Z"
    },
    "papermill": {
     "duration": 0.017788,
     "end_time": "2025-10-24T17:13:42.355884",
     "exception": false,
     "start_time": "2025-10-24T17:13:42.338096",
     "status": "completed"
    },
    "tags": []
   },
   "outputs": [
    {
     "data": {
      "text/plain": [
       "Index(['Model', 'Year', 'Region', 'Color', 'Fuel_Type', 'Transmission',\n",
       "       'Engine_Size_L', 'Mileage_KM', 'Price_USD', 'Sales_Volume',\n",
       "       'Sales_Classification'],\n",
       "      dtype='object')"
      ]
     },
     "execution_count": 8,
     "metadata": {},
     "output_type": "execute_result"
    }
   ],
   "source": [
    "car_columns = exported_data.columns\n",
    "car_columns "
   ]
  },
  {
   "cell_type": "code",
   "execution_count": 9,
   "id": "006c515a",
   "metadata": {
    "execution": {
     "iopub.execute_input": "2025-10-24T17:13:42.374483Z",
     "iopub.status.busy": "2025-10-24T17:13:42.373723Z",
     "iopub.status.idle": "2025-10-24T17:13:42.379180Z",
     "shell.execute_reply": "2025-10-24T17:13:42.378408Z"
    },
    "papermill": {
     "duration": 0.016198,
     "end_time": "2025-10-24T17:13:42.380653",
     "exception": false,
     "start_time": "2025-10-24T17:13:42.364455",
     "status": "completed"
    },
    "tags": []
   },
   "outputs": [
    {
     "data": {
      "text/plain": [
       "RangeIndex(start=0, stop=10, step=1)"
      ]
     },
     "execution_count": 9,
     "metadata": {},
     "output_type": "execute_result"
    }
   ],
   "source": [
    "exported_data.index"
   ]
  },
  {
   "cell_type": "markdown",
   "id": "4d33601b",
   "metadata": {
    "papermill": {
     "duration": 0.008327,
     "end_time": "2025-10-24T17:13:42.398122",
     "exception": false,
     "start_time": "2025-10-24T17:13:42.389795",
     "status": "completed"
    },
    "tags": []
   },
   "source": [
    "#                           Functions "
   ]
  },
  {
   "cell_type": "code",
   "execution_count": 10,
   "id": "85b49d6c",
   "metadata": {
    "execution": {
     "iopub.execute_input": "2025-10-24T17:13:42.416309Z",
     "iopub.status.busy": "2025-10-24T17:13:42.415969Z",
     "iopub.status.idle": "2025-10-24T17:13:42.424945Z",
     "shell.execute_reply": "2025-10-24T17:13:42.424129Z"
    },
    "papermill": {
     "duration": 0.019753,
     "end_time": "2025-10-24T17:13:42.426371",
     "exception": false,
     "start_time": "2025-10-24T17:13:42.406618",
     "status": "completed"
    },
    "tags": []
   },
   "outputs": [
    {
     "data": {
      "text/plain": [
       "Year               2018.30\n",
       "Engine_Size_L         2.34\n",
       "Mileage_KM       100682.80\n",
       "Price_USD         81560.00\n",
       "Sales_Volume       4901.70\n",
       "dtype: float64"
      ]
     },
     "execution_count": 10,
     "metadata": {},
     "output_type": "execute_result"
    }
   ],
   "source": [
    "exported_data.mean(numeric_only = True)\n"
   ]
  },
  {
   "cell_type": "code",
   "execution_count": 11,
   "id": "c3e1cbe8",
   "metadata": {
    "execution": {
     "iopub.execute_input": "2025-10-24T17:13:42.445269Z",
     "iopub.status.busy": "2025-10-24T17:13:42.444608Z",
     "iopub.status.idle": "2025-10-24T17:13:42.470575Z",
     "shell.execute_reply": "2025-10-24T17:13:42.469699Z"
    },
    "papermill": {
     "duration": 0.036931,
     "end_time": "2025-10-24T17:13:42.472020",
     "exception": false,
     "start_time": "2025-10-24T17:13:42.435089",
     "status": "completed"
    },
    "tags": []
   },
   "outputs": [
    {
     "data": {
      "text/html": [
       "<div>\n",
       "<style scoped>\n",
       "    .dataframe tbody tr th:only-of-type {\n",
       "        vertical-align: middle;\n",
       "    }\n",
       "\n",
       "    .dataframe tbody tr th {\n",
       "        vertical-align: top;\n",
       "    }\n",
       "\n",
       "    .dataframe thead th {\n",
       "        text-align: right;\n",
       "    }\n",
       "</style>\n",
       "<table border=\"1\" class=\"dataframe\">\n",
       "  <thead>\n",
       "    <tr style=\"text-align: right;\">\n",
       "      <th></th>\n",
       "      <th>Year</th>\n",
       "      <th>Engine_Size_L</th>\n",
       "      <th>Mileage_KM</th>\n",
       "      <th>Price_USD</th>\n",
       "      <th>Sales_Volume</th>\n",
       "    </tr>\n",
       "  </thead>\n",
       "  <tbody>\n",
       "    <tr>\n",
       "      <th>count</th>\n",
       "      <td>10.000000</td>\n",
       "      <td>10.000000</td>\n",
       "      <td>10.000000</td>\n",
       "      <td>10.000000</td>\n",
       "      <td>10.000000</td>\n",
       "    </tr>\n",
       "    <tr>\n",
       "      <th>mean</th>\n",
       "      <td>2018.300000</td>\n",
       "      <td>2.340000</td>\n",
       "      <td>100682.800000</td>\n",
       "      <td>81560.000000</td>\n",
       "      <td>4901.700000</td>\n",
       "    </tr>\n",
       "    <tr>\n",
       "      <th>std</th>\n",
       "      <td>3.683296</td>\n",
       "      <td>0.994652</td>\n",
       "      <td>65469.992824</td>\n",
       "      <td>27512.833894</td>\n",
       "      <td>2976.035881</td>\n",
       "    </tr>\n",
       "    <tr>\n",
       "      <th>min</th>\n",
       "      <td>2013.000000</td>\n",
       "      <td>1.600000</td>\n",
       "      <td>10991.000000</td>\n",
       "      <td>42926.000000</td>\n",
       "      <td>632.000000</td>\n",
       "    </tr>\n",
       "    <tr>\n",
       "      <th>25%</th>\n",
       "      <td>2016.000000</td>\n",
       "      <td>1.700000</td>\n",
       "      <td>38793.250000</td>\n",
       "      <td>56540.750000</td>\n",
       "      <td>3167.000000</td>\n",
       "    </tr>\n",
       "    <tr>\n",
       "      <th>50%</th>\n",
       "      <td>2018.000000</td>\n",
       "      <td>1.850000</td>\n",
       "      <td>121413.500000</td>\n",
       "      <td>87738.000000</td>\n",
       "      <td>4229.000000</td>\n",
       "    </tr>\n",
       "    <tr>\n",
       "      <th>75%</th>\n",
       "      <td>2021.500000</td>\n",
       "      <td>2.775000</td>\n",
       "      <td>144343.750000</td>\n",
       "      <td>101768.500000</td>\n",
       "      <td>7710.250000</td>\n",
       "    </tr>\n",
       "    <tr>\n",
       "      <th>max</th>\n",
       "      <td>2024.000000</td>\n",
       "      <td>4.500000</td>\n",
       "      <td>196741.000000</td>\n",
       "      <td>116482.000000</td>\n",
       "      <td>8944.000000</td>\n",
       "    </tr>\n",
       "  </tbody>\n",
       "</table>\n",
       "</div>"
      ],
      "text/plain": [
       "              Year  Engine_Size_L     Mileage_KM      Price_USD  Sales_Volume\n",
       "count    10.000000      10.000000      10.000000      10.000000     10.000000\n",
       "mean   2018.300000       2.340000  100682.800000   81560.000000   4901.700000\n",
       "std       3.683296       0.994652   65469.992824   27512.833894   2976.035881\n",
       "min    2013.000000       1.600000   10991.000000   42926.000000    632.000000\n",
       "25%    2016.000000       1.700000   38793.250000   56540.750000   3167.000000\n",
       "50%    2018.000000       1.850000  121413.500000   87738.000000   4229.000000\n",
       "75%    2021.500000       2.775000  144343.750000  101768.500000   7710.250000\n",
       "max    2024.000000       4.500000  196741.000000  116482.000000   8944.000000"
      ]
     },
     "execution_count": 11,
     "metadata": {},
     "output_type": "execute_result"
    }
   ],
   "source": [
    "# Describe works on only numeric columns \n",
    "exported_data.describe()"
   ]
  },
  {
   "cell_type": "code",
   "execution_count": 12,
   "id": "5d5cb0d8",
   "metadata": {
    "execution": {
     "iopub.execute_input": "2025-10-24T17:13:42.491658Z",
     "iopub.status.busy": "2025-10-24T17:13:42.490792Z",
     "iopub.status.idle": "2025-10-24T17:13:42.509289Z",
     "shell.execute_reply": "2025-10-24T17:13:42.508274Z"
    },
    "papermill": {
     "duration": 0.029617,
     "end_time": "2025-10-24T17:13:42.510699",
     "exception": false,
     "start_time": "2025-10-24T17:13:42.481082",
     "status": "completed"
    },
    "tags": []
   },
   "outputs": [
    {
     "name": "stdout",
     "output_type": "stream",
     "text": [
      "<class 'pandas.core.frame.DataFrame'>\n",
      "RangeIndex: 10 entries, 0 to 9\n",
      "Data columns (total 11 columns):\n",
      " #   Column                Non-Null Count  Dtype  \n",
      "---  ------                --------------  -----  \n",
      " 0   Model                 10 non-null     object \n",
      " 1   Year                  10 non-null     int64  \n",
      " 2   Region                10 non-null     object \n",
      " 3   Color                 10 non-null     object \n",
      " 4   Fuel_Type             10 non-null     object \n",
      " 5   Transmission          10 non-null     object \n",
      " 6   Engine_Size_L         10 non-null     float64\n",
      " 7   Mileage_KM            10 non-null     int64  \n",
      " 8   Price_USD             10 non-null     int64  \n",
      " 9   Sales_Volume          10 non-null     int64  \n",
      " 10  Sales_Classification  10 non-null     object \n",
      "dtypes: float64(1), int64(4), object(6)\n",
      "memory usage: 1012.0+ bytes\n"
     ]
    }
   ],
   "source": [
    "exported_data.info ()"
   ]
  },
  {
   "cell_type": "markdown",
   "id": "2df61be8",
   "metadata": {
    "papermill": {
     "duration": 0.008913,
     "end_time": "2025-10-24T17:13:42.528962",
     "exception": false,
     "start_time": "2025-10-24T17:13:42.520049",
     "status": "completed"
    },
    "tags": []
   },
   "source": [
    "# Targeting a particular column "
   ]
  },
  {
   "cell_type": "code",
   "execution_count": 13,
   "id": "ff027a4b",
   "metadata": {
    "execution": {
     "iopub.execute_input": "2025-10-24T17:13:42.548583Z",
     "iopub.status.busy": "2025-10-24T17:13:42.547843Z",
     "iopub.status.idle": "2025-10-24T17:13:42.553812Z",
     "shell.execute_reply": "2025-10-24T17:13:42.552945Z"
    },
    "papermill": {
     "duration": 0.017235,
     "end_time": "2025-10-24T17:13:42.555136",
     "exception": false,
     "start_time": "2025-10-24T17:13:42.537901",
     "status": "completed"
    },
    "tags": []
   },
   "outputs": [
    {
     "data": {
      "text/plain": [
       "815600"
      ]
     },
     "execution_count": 13,
     "metadata": {},
     "output_type": "execute_result"
    }
   ],
   "source": [
    "# mean , median all can be calculated \n",
    "exported_data[\"Price_USD\"].sum()"
   ]
  },
  {
   "cell_type": "code",
   "execution_count": 14,
   "id": "df8938dc",
   "metadata": {
    "execution": {
     "iopub.execute_input": "2025-10-24T17:13:42.575019Z",
     "iopub.status.busy": "2025-10-24T17:13:42.574372Z",
     "iopub.status.idle": "2025-10-24T17:13:42.580164Z",
     "shell.execute_reply": "2025-10-24T17:13:42.579292Z"
    },
    "papermill": {
     "duration": 0.017306,
     "end_time": "2025-10-24T17:13:42.581703",
     "exception": false,
     "start_time": "2025-10-24T17:13:42.564397",
     "status": "completed"
    },
    "tags": []
   },
   "outputs": [
    {
     "data": {
      "text/plain": [
       "10"
      ]
     },
     "execution_count": 14,
     "metadata": {},
     "output_type": "execute_result"
    }
   ],
   "source": [
    "len(exported_data)"
   ]
  },
  {
   "cell_type": "markdown",
   "id": "db2aedf3",
   "metadata": {
    "execution": {
     "iopub.execute_input": "2025-10-24T12:10:21.819980Z",
     "iopub.status.busy": "2025-10-24T12:10:21.818729Z",
     "iopub.status.idle": "2025-10-24T12:10:21.827872Z",
     "shell.execute_reply": "2025-10-24T12:10:21.826580Z",
     "shell.execute_reply.started": "2025-10-24T12:10:21.819927Z"
    },
    "papermill": {
     "duration": 0.008817,
     "end_time": "2025-10-24T17:13:42.599894",
     "exception": false,
     "start_time": "2025-10-24T17:13:42.591077",
     "status": "completed"
    },
    "tags": []
   },
   "source": [
    "# Viewing and Selecting Data "
   ]
  },
  {
   "cell_type": "code",
   "execution_count": 15,
   "id": "9db1aba3",
   "metadata": {
    "execution": {
     "iopub.execute_input": "2025-10-24T17:13:42.619404Z",
     "iopub.status.busy": "2025-10-24T17:13:42.618853Z",
     "iopub.status.idle": "2025-10-24T17:13:42.631133Z",
     "shell.execute_reply": "2025-10-24T17:13:42.630377Z"
    },
    "papermill": {
     "duration": 0.023549,
     "end_time": "2025-10-24T17:13:42.632518",
     "exception": false,
     "start_time": "2025-10-24T17:13:42.608969",
     "status": "completed"
    },
    "tags": []
   },
   "outputs": [
    {
     "data": {
      "text/html": [
       "<div>\n",
       "<style scoped>\n",
       "    .dataframe tbody tr th:only-of-type {\n",
       "        vertical-align: middle;\n",
       "    }\n",
       "\n",
       "    .dataframe tbody tr th {\n",
       "        vertical-align: top;\n",
       "    }\n",
       "\n",
       "    .dataframe thead th {\n",
       "        text-align: right;\n",
       "    }\n",
       "</style>\n",
       "<table border=\"1\" class=\"dataframe\">\n",
       "  <thead>\n",
       "    <tr style=\"text-align: right;\">\n",
       "      <th></th>\n",
       "      <th>Model</th>\n",
       "      <th>Year</th>\n",
       "      <th>Region</th>\n",
       "      <th>Color</th>\n",
       "      <th>Fuel_Type</th>\n",
       "      <th>Transmission</th>\n",
       "      <th>Engine_Size_L</th>\n",
       "      <th>Mileage_KM</th>\n",
       "      <th>Price_USD</th>\n",
       "      <th>Sales_Volume</th>\n",
       "      <th>Sales_Classification</th>\n",
       "    </tr>\n",
       "  </thead>\n",
       "  <tbody>\n",
       "    <tr>\n",
       "      <th>0</th>\n",
       "      <td>5 Series</td>\n",
       "      <td>2016</td>\n",
       "      <td>Asia</td>\n",
       "      <td>Red</td>\n",
       "      <td>Petrol</td>\n",
       "      <td>Manual</td>\n",
       "      <td>3.5</td>\n",
       "      <td>151748</td>\n",
       "      <td>98740</td>\n",
       "      <td>8300</td>\n",
       "      <td>High</td>\n",
       "    </tr>\n",
       "    <tr>\n",
       "      <th>1</th>\n",
       "      <td>i8</td>\n",
       "      <td>2013</td>\n",
       "      <td>North America</td>\n",
       "      <td>Red</td>\n",
       "      <td>Hybrid</td>\n",
       "      <td>Automatic</td>\n",
       "      <td>1.6</td>\n",
       "      <td>121671</td>\n",
       "      <td>79219</td>\n",
       "      <td>3428</td>\n",
       "      <td>Low</td>\n",
       "    </tr>\n",
       "    <tr>\n",
       "      <th>2</th>\n",
       "      <td>5 Series</td>\n",
       "      <td>2022</td>\n",
       "      <td>North America</td>\n",
       "      <td>Blue</td>\n",
       "      <td>Petrol</td>\n",
       "      <td>Automatic</td>\n",
       "      <td>4.5</td>\n",
       "      <td>10991</td>\n",
       "      <td>113265</td>\n",
       "      <td>6994</td>\n",
       "      <td>Low</td>\n",
       "    </tr>\n",
       "    <tr>\n",
       "      <th>3</th>\n",
       "      <td>X3</td>\n",
       "      <td>2024</td>\n",
       "      <td>Middle East</td>\n",
       "      <td>Blue</td>\n",
       "      <td>Petrol</td>\n",
       "      <td>Automatic</td>\n",
       "      <td>1.7</td>\n",
       "      <td>27255</td>\n",
       "      <td>60971</td>\n",
       "      <td>4047</td>\n",
       "      <td>Low</td>\n",
       "    </tr>\n",
       "    <tr>\n",
       "      <th>4</th>\n",
       "      <td>7 Series</td>\n",
       "      <td>2020</td>\n",
       "      <td>South America</td>\n",
       "      <td>Black</td>\n",
       "      <td>Diesel</td>\n",
       "      <td>Manual</td>\n",
       "      <td>2.1</td>\n",
       "      <td>122131</td>\n",
       "      <td>49898</td>\n",
       "      <td>3080</td>\n",
       "      <td>Low</td>\n",
       "    </tr>\n",
       "  </tbody>\n",
       "</table>\n",
       "</div>"
      ],
      "text/plain": [
       "      Model  Year         Region  Color Fuel_Type Transmission  Engine_Size_L  \\\n",
       "0  5 Series  2016           Asia    Red    Petrol       Manual            3.5   \n",
       "1        i8  2013  North America    Red    Hybrid    Automatic            1.6   \n",
       "2  5 Series  2022  North America   Blue    Petrol    Automatic            4.5   \n",
       "3        X3  2024    Middle East   Blue    Petrol    Automatic            1.7   \n",
       "4  7 Series  2020  South America  Black    Diesel       Manual            2.1   \n",
       "\n",
       "   Mileage_KM  Price_USD  Sales_Volume Sales_Classification  \n",
       "0      151748      98740          8300                 High  \n",
       "1      121671      79219          3428                  Low  \n",
       "2       10991     113265          6994                  Low  \n",
       "3       27255      60971          4047                  Low  \n",
       "4      122131      49898          3080                  Low  "
      ]
     },
     "execution_count": 15,
     "metadata": {},
     "output_type": "execute_result"
    }
   ],
   "source": [
    "# if you dont give any parameter inside head it fetches the top 5 \n",
    "exported_data.head()"
   ]
  },
  {
   "cell_type": "markdown",
   "id": "db419cf3",
   "metadata": {
    "execution": {
     "iopub.execute_input": "2025-10-24T12:14:20.003203Z",
     "iopub.status.busy": "2025-10-24T12:14:20.002830Z",
     "iopub.status.idle": "2025-10-24T12:14:20.007967Z",
     "shell.execute_reply": "2025-10-24T12:14:20.006742Z",
     "shell.execute_reply.started": "2025-10-24T12:14:20.003176Z"
    },
    "papermill": {
     "duration": 0.009172,
     "end_time": "2025-10-24T17:13:42.651197",
     "exception": false,
     "start_time": "2025-10-24T17:13:42.642025",
     "status": "completed"
    },
    "tags": []
   },
   "source": [
    "# .loc and iloc"
   ]
  },
  {
   "cell_type": "code",
   "execution_count": 16,
   "id": "74a1bbc7",
   "metadata": {
    "execution": {
     "iopub.execute_input": "2025-10-24T17:13:42.671379Z",
     "iopub.status.busy": "2025-10-24T17:13:42.670730Z",
     "iopub.status.idle": "2025-10-24T17:13:42.677612Z",
     "shell.execute_reply": "2025-10-24T17:13:42.676755Z"
    },
    "papermill": {
     "duration": 0.018381,
     "end_time": "2025-10-24T17:13:42.679017",
     "exception": false,
     "start_time": "2025-10-24T17:13:42.660636",
     "status": "completed"
    },
    "tags": []
   },
   "outputs": [
    {
     "data": {
      "text/plain": [
       "0       Dog\n",
       "3       Cat\n",
       "6     Panda\n",
       "9    Rabbit\n",
       "dtype: object"
      ]
     },
     "execution_count": 16,
     "metadata": {},
     "output_type": "execute_result"
    }
   ],
   "source": [
    "animals = pd.Series([\"Dog\" , \"Cat\" , \"Panda\" ,\"Rabbit\"] , index = [0,3,6,9])\n",
    "animals "
   ]
  },
  {
   "cell_type": "code",
   "execution_count": 17,
   "id": "67936146",
   "metadata": {
    "execution": {
     "iopub.execute_input": "2025-10-24T17:13:42.699986Z",
     "iopub.status.busy": "2025-10-24T17:13:42.699324Z",
     "iopub.status.idle": "2025-10-24T17:13:42.705071Z",
     "shell.execute_reply": "2025-10-24T17:13:42.704278Z"
    },
    "papermill": {
     "duration": 0.017619,
     "end_time": "2025-10-24T17:13:42.706442",
     "exception": false,
     "start_time": "2025-10-24T17:13:42.688823",
     "status": "completed"
    },
    "tags": []
   },
   "outputs": [
    {
     "data": {
      "text/plain": [
       "'Cat'"
      ]
     },
     "execution_count": 17,
     "metadata": {},
     "output_type": "execute_result"
    }
   ],
   "source": [
    "# Loc refers to the index numbers \n",
    "animals.loc[3]       "
   ]
  },
  {
   "cell_type": "code",
   "execution_count": 18,
   "id": "d1174667",
   "metadata": {
    "execution": {
     "iopub.execute_input": "2025-10-24T17:13:42.727408Z",
     "iopub.status.busy": "2025-10-24T17:13:42.726733Z",
     "iopub.status.idle": "2025-10-24T17:13:42.732082Z",
     "shell.execute_reply": "2025-10-24T17:13:42.731295Z"
    },
    "papermill": {
     "duration": 0.017392,
     "end_time": "2025-10-24T17:13:42.733577",
     "exception": false,
     "start_time": "2025-10-24T17:13:42.716185",
     "status": "completed"
    },
    "tags": []
   },
   "outputs": [
    {
     "data": {
      "text/plain": [
       "'Rabbit'"
      ]
     },
     "execution_count": 18,
     "metadata": {},
     "output_type": "execute_result"
    }
   ],
   "source": [
    "# ILoc refers to the position not the index \n",
    "animals.iloc[3]"
   ]
  },
  {
   "cell_type": "markdown",
   "id": "fb63c133",
   "metadata": {
    "papermill": {
     "duration": 0.009201,
     "end_time": "2025-10-24T17:13:42.752608",
     "exception": false,
     "start_time": "2025-10-24T17:13:42.743407",
     "status": "completed"
    },
    "tags": []
   },
   "source": [
    "# Slicing using loc and iloc "
   ]
  },
  {
   "cell_type": "code",
   "execution_count": 19,
   "id": "8546ce1b",
   "metadata": {
    "execution": {
     "iopub.execute_input": "2025-10-24T17:13:42.773796Z",
     "iopub.status.busy": "2025-10-24T17:13:42.773391Z",
     "iopub.status.idle": "2025-10-24T17:13:42.785791Z",
     "shell.execute_reply": "2025-10-24T17:13:42.784954Z"
    },
    "papermill": {
     "duration": 0.025075,
     "end_time": "2025-10-24T17:13:42.787203",
     "exception": false,
     "start_time": "2025-10-24T17:13:42.762128",
     "status": "completed"
    },
    "tags": []
   },
   "outputs": [
    {
     "data": {
      "text/html": [
       "<div>\n",
       "<style scoped>\n",
       "    .dataframe tbody tr th:only-of-type {\n",
       "        vertical-align: middle;\n",
       "    }\n",
       "\n",
       "    .dataframe tbody tr th {\n",
       "        vertical-align: top;\n",
       "    }\n",
       "\n",
       "    .dataframe thead th {\n",
       "        text-align: right;\n",
       "    }\n",
       "</style>\n",
       "<table border=\"1\" class=\"dataframe\">\n",
       "  <thead>\n",
       "    <tr style=\"text-align: right;\">\n",
       "      <th></th>\n",
       "      <th>Model</th>\n",
       "      <th>Year</th>\n",
       "      <th>Region</th>\n",
       "      <th>Color</th>\n",
       "      <th>Fuel_Type</th>\n",
       "      <th>Transmission</th>\n",
       "      <th>Engine_Size_L</th>\n",
       "      <th>Mileage_KM</th>\n",
       "      <th>Price_USD</th>\n",
       "      <th>Sales_Volume</th>\n",
       "      <th>Sales_Classification</th>\n",
       "    </tr>\n",
       "  </thead>\n",
       "  <tbody>\n",
       "    <tr>\n",
       "      <th>0</th>\n",
       "      <td>5 Series</td>\n",
       "      <td>2016</td>\n",
       "      <td>Asia</td>\n",
       "      <td>Red</td>\n",
       "      <td>Petrol</td>\n",
       "      <td>Manual</td>\n",
       "      <td>3.5</td>\n",
       "      <td>151748</td>\n",
       "      <td>98740</td>\n",
       "      <td>8300</td>\n",
       "      <td>High</td>\n",
       "    </tr>\n",
       "    <tr>\n",
       "      <th>1</th>\n",
       "      <td>i8</td>\n",
       "      <td>2013</td>\n",
       "      <td>North America</td>\n",
       "      <td>Red</td>\n",
       "      <td>Hybrid</td>\n",
       "      <td>Automatic</td>\n",
       "      <td>1.6</td>\n",
       "      <td>121671</td>\n",
       "      <td>79219</td>\n",
       "      <td>3428</td>\n",
       "      <td>Low</td>\n",
       "    </tr>\n",
       "    <tr>\n",
       "      <th>2</th>\n",
       "      <td>5 Series</td>\n",
       "      <td>2022</td>\n",
       "      <td>North America</td>\n",
       "      <td>Blue</td>\n",
       "      <td>Petrol</td>\n",
       "      <td>Automatic</td>\n",
       "      <td>4.5</td>\n",
       "      <td>10991</td>\n",
       "      <td>113265</td>\n",
       "      <td>6994</td>\n",
       "      <td>Low</td>\n",
       "    </tr>\n",
       "    <tr>\n",
       "      <th>3</th>\n",
       "      <td>X3</td>\n",
       "      <td>2024</td>\n",
       "      <td>Middle East</td>\n",
       "      <td>Blue</td>\n",
       "      <td>Petrol</td>\n",
       "      <td>Automatic</td>\n",
       "      <td>1.7</td>\n",
       "      <td>27255</td>\n",
       "      <td>60971</td>\n",
       "      <td>4047</td>\n",
       "      <td>Low</td>\n",
       "    </tr>\n",
       "  </tbody>\n",
       "</table>\n",
       "</div>"
      ],
      "text/plain": [
       "      Model  Year         Region Color Fuel_Type Transmission  Engine_Size_L  \\\n",
       "0  5 Series  2016           Asia   Red    Petrol       Manual            3.5   \n",
       "1        i8  2013  North America   Red    Hybrid    Automatic            1.6   \n",
       "2  5 Series  2022  North America  Blue    Petrol    Automatic            4.5   \n",
       "3        X3  2024    Middle East  Blue    Petrol    Automatic            1.7   \n",
       "\n",
       "   Mileage_KM  Price_USD  Sales_Volume Sales_Classification  \n",
       "0      151748      98740          8300                 High  \n",
       "1      121671      79219          3428                  Low  \n",
       "2       10991     113265          6994                  Low  \n",
       "3       27255      60971          4047                  Low  "
      ]
     },
     "execution_count": 19,
     "metadata": {},
     "output_type": "execute_result"
    }
   ],
   "source": [
    "# Show me the data upto the position three \n",
    "animals.iloc[:3]\n",
    "# show me the data upto index 3 \n",
    "exported_data.loc[:3]"
   ]
  },
  {
   "cell_type": "code",
   "execution_count": 20,
   "id": "fdfd35cf",
   "metadata": {
    "execution": {
     "iopub.execute_input": "2025-10-24T17:13:42.808529Z",
     "iopub.status.busy": "2025-10-24T17:13:42.808189Z",
     "iopub.status.idle": "2025-10-24T17:13:42.812028Z",
     "shell.execute_reply": "2025-10-24T17:13:42.811291Z"
    },
    "papermill": {
     "duration": 0.016142,
     "end_time": "2025-10-24T17:13:42.813556",
     "exception": false,
     "start_time": "2025-10-24T17:13:42.797414",
     "status": "completed"
    },
    "tags": []
   },
   "outputs": [],
   "source": [
    "# exported_data.Region or exported_data[\"Region\"] is the same thing although if your\n",
    "# column name has space in it dot notation wont work "
   ]
  },
  {
   "cell_type": "code",
   "execution_count": 21,
   "id": "beaba9e9",
   "metadata": {
    "execution": {
     "iopub.execute_input": "2025-10-24T17:13:42.834542Z",
     "iopub.status.busy": "2025-10-24T17:13:42.834198Z",
     "iopub.status.idle": "2025-10-24T17:13:42.847023Z",
     "shell.execute_reply": "2025-10-24T17:13:42.846217Z"
    },
    "papermill": {
     "duration": 0.024803,
     "end_time": "2025-10-24T17:13:42.848401",
     "exception": false,
     "start_time": "2025-10-24T17:13:42.823598",
     "status": "completed"
    },
    "tags": []
   },
   "outputs": [
    {
     "data": {
      "text/html": [
       "<div>\n",
       "<style scoped>\n",
       "    .dataframe tbody tr th:only-of-type {\n",
       "        vertical-align: middle;\n",
       "    }\n",
       "\n",
       "    .dataframe tbody tr th {\n",
       "        vertical-align: top;\n",
       "    }\n",
       "\n",
       "    .dataframe thead th {\n",
       "        text-align: right;\n",
       "    }\n",
       "</style>\n",
       "<table border=\"1\" class=\"dataframe\">\n",
       "  <thead>\n",
       "    <tr style=\"text-align: right;\">\n",
       "      <th></th>\n",
       "      <th>Model</th>\n",
       "      <th>Year</th>\n",
       "      <th>Region</th>\n",
       "      <th>Color</th>\n",
       "      <th>Fuel_Type</th>\n",
       "      <th>Transmission</th>\n",
       "      <th>Engine_Size_L</th>\n",
       "      <th>Mileage_KM</th>\n",
       "      <th>Price_USD</th>\n",
       "      <th>Sales_Volume</th>\n",
       "      <th>Sales_Classification</th>\n",
       "    </tr>\n",
       "  </thead>\n",
       "  <tbody>\n",
       "    <tr>\n",
       "      <th>0</th>\n",
       "      <td>5 Series</td>\n",
       "      <td>2016</td>\n",
       "      <td>Asia</td>\n",
       "      <td>Red</td>\n",
       "      <td>Petrol</td>\n",
       "      <td>Manual</td>\n",
       "      <td>3.5</td>\n",
       "      <td>151748</td>\n",
       "      <td>98740</td>\n",
       "      <td>8300</td>\n",
       "      <td>High</td>\n",
       "    </tr>\n",
       "    <tr>\n",
       "      <th>1</th>\n",
       "      <td>i8</td>\n",
       "      <td>2013</td>\n",
       "      <td>North America</td>\n",
       "      <td>Red</td>\n",
       "      <td>Hybrid</td>\n",
       "      <td>Automatic</td>\n",
       "      <td>1.6</td>\n",
       "      <td>121671</td>\n",
       "      <td>79219</td>\n",
       "      <td>3428</td>\n",
       "      <td>Low</td>\n",
       "    </tr>\n",
       "    <tr>\n",
       "      <th>2</th>\n",
       "      <td>5 Series</td>\n",
       "      <td>2022</td>\n",
       "      <td>North America</td>\n",
       "      <td>Blue</td>\n",
       "      <td>Petrol</td>\n",
       "      <td>Automatic</td>\n",
       "      <td>4.5</td>\n",
       "      <td>10991</td>\n",
       "      <td>113265</td>\n",
       "      <td>6994</td>\n",
       "      <td>Low</td>\n",
       "    </tr>\n",
       "    <tr>\n",
       "      <th>3</th>\n",
       "      <td>X3</td>\n",
       "      <td>2024</td>\n",
       "      <td>Middle East</td>\n",
       "      <td>Blue</td>\n",
       "      <td>Petrol</td>\n",
       "      <td>Automatic</td>\n",
       "      <td>1.7</td>\n",
       "      <td>27255</td>\n",
       "      <td>60971</td>\n",
       "      <td>4047</td>\n",
       "      <td>Low</td>\n",
       "    </tr>\n",
       "    <tr>\n",
       "      <th>4</th>\n",
       "      <td>7 Series</td>\n",
       "      <td>2020</td>\n",
       "      <td>South America</td>\n",
       "      <td>Black</td>\n",
       "      <td>Diesel</td>\n",
       "      <td>Manual</td>\n",
       "      <td>2.1</td>\n",
       "      <td>122131</td>\n",
       "      <td>49898</td>\n",
       "      <td>3080</td>\n",
       "      <td>Low</td>\n",
       "    </tr>\n",
       "    <tr>\n",
       "      <th>5</th>\n",
       "      <td>5 Series</td>\n",
       "      <td>2017</td>\n",
       "      <td>Middle East</td>\n",
       "      <td>Silver</td>\n",
       "      <td>Diesel</td>\n",
       "      <td>Manual</td>\n",
       "      <td>1.9</td>\n",
       "      <td>171362</td>\n",
       "      <td>42926</td>\n",
       "      <td>1232</td>\n",
       "      <td>Low</td>\n",
       "    </tr>\n",
       "    <tr>\n",
       "      <th>6</th>\n",
       "      <td>i8</td>\n",
       "      <td>2022</td>\n",
       "      <td>Europe</td>\n",
       "      <td>White</td>\n",
       "      <td>Diesel</td>\n",
       "      <td>Manual</td>\n",
       "      <td>1.8</td>\n",
       "      <td>196741</td>\n",
       "      <td>55064</td>\n",
       "      <td>7949</td>\n",
       "      <td>High</td>\n",
       "    </tr>\n",
       "    <tr>\n",
       "      <th>7</th>\n",
       "      <td>M5</td>\n",
       "      <td>2014</td>\n",
       "      <td>Asia</td>\n",
       "      <td>Black</td>\n",
       "      <td>Diesel</td>\n",
       "      <td>Automatic</td>\n",
       "      <td>1.6</td>\n",
       "      <td>121156</td>\n",
       "      <td>102778</td>\n",
       "      <td>632</td>\n",
       "      <td>Low</td>\n",
       "    </tr>\n",
       "    <tr>\n",
       "      <th>8</th>\n",
       "      <td>X3</td>\n",
       "      <td>2016</td>\n",
       "      <td>South America</td>\n",
       "      <td>White</td>\n",
       "      <td>Diesel</td>\n",
       "      <td>Automatic</td>\n",
       "      <td>1.7</td>\n",
       "      <td>48073</td>\n",
       "      <td>116482</td>\n",
       "      <td>8944</td>\n",
       "      <td>High</td>\n",
       "    </tr>\n",
       "    <tr>\n",
       "      <th>9</th>\n",
       "      <td>i8</td>\n",
       "      <td>2019</td>\n",
       "      <td>Europe</td>\n",
       "      <td>White</td>\n",
       "      <td>Electric</td>\n",
       "      <td>Manual</td>\n",
       "      <td>3.0</td>\n",
       "      <td>35700</td>\n",
       "      <td>96257</td>\n",
       "      <td>4411</td>\n",
       "      <td>Low</td>\n",
       "    </tr>\n",
       "  </tbody>\n",
       "</table>\n",
       "</div>"
      ],
      "text/plain": [
       "      Model  Year         Region   Color Fuel_Type Transmission  \\\n",
       "0  5 Series  2016           Asia     Red    Petrol       Manual   \n",
       "1        i8  2013  North America     Red    Hybrid    Automatic   \n",
       "2  5 Series  2022  North America    Blue    Petrol    Automatic   \n",
       "3        X3  2024    Middle East    Blue    Petrol    Automatic   \n",
       "4  7 Series  2020  South America   Black    Diesel       Manual   \n",
       "5  5 Series  2017    Middle East  Silver    Diesel       Manual   \n",
       "6        i8  2022         Europe   White    Diesel       Manual   \n",
       "7        M5  2014           Asia   Black    Diesel    Automatic   \n",
       "8        X3  2016  South America   White    Diesel    Automatic   \n",
       "9        i8  2019         Europe   White  Electric       Manual   \n",
       "\n",
       "   Engine_Size_L  Mileage_KM  Price_USD  Sales_Volume Sales_Classification  \n",
       "0            3.5      151748      98740          8300                 High  \n",
       "1            1.6      121671      79219          3428                  Low  \n",
       "2            4.5       10991     113265          6994                  Low  \n",
       "3            1.7       27255      60971          4047                  Low  \n",
       "4            2.1      122131      49898          3080                  Low  \n",
       "5            1.9      171362      42926          1232                  Low  \n",
       "6            1.8      196741      55064          7949                 High  \n",
       "7            1.6      121156     102778           632                  Low  \n",
       "8            1.7       48073     116482          8944                 High  \n",
       "9            3.0       35700      96257          4411                  Low  "
      ]
     },
     "execution_count": 21,
     "metadata": {},
     "output_type": "execute_result"
    }
   ],
   "source": [
    "exported_data\n"
   ]
  },
  {
   "cell_type": "code",
   "execution_count": 22,
   "id": "fe672ef9",
   "metadata": {
    "execution": {
     "iopub.execute_input": "2025-10-24T17:13:42.869831Z",
     "iopub.status.busy": "2025-10-24T17:13:42.869536Z",
     "iopub.status.idle": "2025-10-24T17:13:42.885291Z",
     "shell.execute_reply": "2025-10-24T17:13:42.884489Z"
    },
    "papermill": {
     "duration": 0.0282,
     "end_time": "2025-10-24T17:13:42.886859",
     "exception": false,
     "start_time": "2025-10-24T17:13:42.858659",
     "status": "completed"
    },
    "tags": []
   },
   "outputs": [
    {
     "data": {
      "text/html": [
       "<div>\n",
       "<style scoped>\n",
       "    .dataframe tbody tr th:only-of-type {\n",
       "        vertical-align: middle;\n",
       "    }\n",
       "\n",
       "    .dataframe tbody tr th {\n",
       "        vertical-align: top;\n",
       "    }\n",
       "\n",
       "    .dataframe thead th {\n",
       "        text-align: right;\n",
       "    }\n",
       "</style>\n",
       "<table border=\"1\" class=\"dataframe\">\n",
       "  <thead>\n",
       "    <tr style=\"text-align: right;\">\n",
       "      <th></th>\n",
       "      <th>Model</th>\n",
       "      <th>Year</th>\n",
       "      <th>Region</th>\n",
       "      <th>Color</th>\n",
       "      <th>Fuel_Type</th>\n",
       "      <th>Transmission</th>\n",
       "      <th>Engine_Size_L</th>\n",
       "      <th>Mileage_KM</th>\n",
       "      <th>Price_USD</th>\n",
       "      <th>Sales_Volume</th>\n",
       "      <th>Sales_Classification</th>\n",
       "    </tr>\n",
       "  </thead>\n",
       "  <tbody>\n",
       "    <tr>\n",
       "      <th>0</th>\n",
       "      <td>5 Series</td>\n",
       "      <td>2016</td>\n",
       "      <td>Asia</td>\n",
       "      <td>Red</td>\n",
       "      <td>Petrol</td>\n",
       "      <td>Manual</td>\n",
       "      <td>3.5</td>\n",
       "      <td>151748</td>\n",
       "      <td>98740</td>\n",
       "      <td>8300</td>\n",
       "      <td>High</td>\n",
       "    </tr>\n",
       "    <tr>\n",
       "      <th>1</th>\n",
       "      <td>i8</td>\n",
       "      <td>2013</td>\n",
       "      <td>North America</td>\n",
       "      <td>Red</td>\n",
       "      <td>Hybrid</td>\n",
       "      <td>Automatic</td>\n",
       "      <td>1.6</td>\n",
       "      <td>121671</td>\n",
       "      <td>79219</td>\n",
       "      <td>3428</td>\n",
       "      <td>Low</td>\n",
       "    </tr>\n",
       "    <tr>\n",
       "      <th>5</th>\n",
       "      <td>5 Series</td>\n",
       "      <td>2017</td>\n",
       "      <td>Middle East</td>\n",
       "      <td>Silver</td>\n",
       "      <td>Diesel</td>\n",
       "      <td>Manual</td>\n",
       "      <td>1.9</td>\n",
       "      <td>171362</td>\n",
       "      <td>42926</td>\n",
       "      <td>1232</td>\n",
       "      <td>Low</td>\n",
       "    </tr>\n",
       "    <tr>\n",
       "      <th>7</th>\n",
       "      <td>M5</td>\n",
       "      <td>2014</td>\n",
       "      <td>Asia</td>\n",
       "      <td>Black</td>\n",
       "      <td>Diesel</td>\n",
       "      <td>Automatic</td>\n",
       "      <td>1.6</td>\n",
       "      <td>121156</td>\n",
       "      <td>102778</td>\n",
       "      <td>632</td>\n",
       "      <td>Low</td>\n",
       "    </tr>\n",
       "    <tr>\n",
       "      <th>8</th>\n",
       "      <td>X3</td>\n",
       "      <td>2016</td>\n",
       "      <td>South America</td>\n",
       "      <td>White</td>\n",
       "      <td>Diesel</td>\n",
       "      <td>Automatic</td>\n",
       "      <td>1.7</td>\n",
       "      <td>48073</td>\n",
       "      <td>116482</td>\n",
       "      <td>8944</td>\n",
       "      <td>High</td>\n",
       "    </tr>\n",
       "  </tbody>\n",
       "</table>\n",
       "</div>"
      ],
      "text/plain": [
       "      Model  Year         Region   Color Fuel_Type Transmission  \\\n",
       "0  5 Series  2016           Asia     Red    Petrol       Manual   \n",
       "1        i8  2013  North America     Red    Hybrid    Automatic   \n",
       "5  5 Series  2017    Middle East  Silver    Diesel       Manual   \n",
       "7        M5  2014           Asia   Black    Diesel    Automatic   \n",
       "8        X3  2016  South America   White    Diesel    Automatic   \n",
       "\n",
       "   Engine_Size_L  Mileage_KM  Price_USD  Sales_Volume Sales_Classification  \n",
       "0            3.5      151748      98740          8300                 High  \n",
       "1            1.6      121671      79219          3428                  Low  \n",
       "5            1.9      171362      42926          1232                  Low  \n",
       "7            1.6      121156     102778           632                  Low  \n",
       "8            1.7       48073     116482          8944                 High  "
      ]
     },
     "execution_count": 22,
     "metadata": {},
     "output_type": "execute_result"
    }
   ],
   "source": [
    "exported_data[exported_data[\"Year\"] <= 2017]"
   ]
  },
  {
   "cell_type": "code",
   "execution_count": 23,
   "id": "aa55be01",
   "metadata": {
    "execution": {
     "iopub.execute_input": "2025-10-24T17:13:42.909183Z",
     "iopub.status.busy": "2025-10-24T17:13:42.908412Z",
     "iopub.status.idle": "2025-10-24T17:13:42.912895Z",
     "shell.execute_reply": "2025-10-24T17:13:42.912176Z"
    },
    "papermill": {
     "duration": 0.017144,
     "end_time": "2025-10-24T17:13:42.914335",
     "exception": false,
     "start_time": "2025-10-24T17:13:42.897191",
     "status": "completed"
    },
    "tags": []
   },
   "outputs": [],
   "source": [
    "exported_data[\"Engine_Size_L\"] += 1"
   ]
  },
  {
   "cell_type": "code",
   "execution_count": 24,
   "id": "e8e23457",
   "metadata": {
    "execution": {
     "iopub.execute_input": "2025-10-24T17:13:42.936398Z",
     "iopub.status.busy": "2025-10-24T17:13:42.935712Z",
     "iopub.status.idle": "2025-10-24T17:13:42.963276Z",
     "shell.execute_reply": "2025-10-24T17:13:42.962374Z"
    },
    "papermill": {
     "duration": 0.040024,
     "end_time": "2025-10-24T17:13:42.964690",
     "exception": false,
     "start_time": "2025-10-24T17:13:42.924666",
     "status": "completed"
    },
    "tags": []
   },
   "outputs": [
    {
     "data": {
      "text/html": [
       "<div>\n",
       "<style scoped>\n",
       "    .dataframe tbody tr th:only-of-type {\n",
       "        vertical-align: middle;\n",
       "    }\n",
       "\n",
       "    .dataframe tbody tr th {\n",
       "        vertical-align: top;\n",
       "    }\n",
       "\n",
       "    .dataframe thead th {\n",
       "        text-align: right;\n",
       "    }\n",
       "</style>\n",
       "<table border=\"1\" class=\"dataframe\">\n",
       "  <thead>\n",
       "    <tr style=\"text-align: right;\">\n",
       "      <th>Fuel_Type</th>\n",
       "      <th>Diesel</th>\n",
       "      <th>Electric</th>\n",
       "      <th>Hybrid</th>\n",
       "      <th>Petrol</th>\n",
       "    </tr>\n",
       "    <tr>\n",
       "      <th>Color</th>\n",
       "      <th></th>\n",
       "      <th></th>\n",
       "      <th></th>\n",
       "      <th></th>\n",
       "    </tr>\n",
       "  </thead>\n",
       "  <tbody>\n",
       "    <tr>\n",
       "      <th>Black</th>\n",
       "      <td>2</td>\n",
       "      <td>0</td>\n",
       "      <td>0</td>\n",
       "      <td>0</td>\n",
       "    </tr>\n",
       "    <tr>\n",
       "      <th>Blue</th>\n",
       "      <td>0</td>\n",
       "      <td>0</td>\n",
       "      <td>0</td>\n",
       "      <td>2</td>\n",
       "    </tr>\n",
       "    <tr>\n",
       "      <th>Red</th>\n",
       "      <td>0</td>\n",
       "      <td>0</td>\n",
       "      <td>1</td>\n",
       "      <td>1</td>\n",
       "    </tr>\n",
       "    <tr>\n",
       "      <th>Silver</th>\n",
       "      <td>1</td>\n",
       "      <td>0</td>\n",
       "      <td>0</td>\n",
       "      <td>0</td>\n",
       "    </tr>\n",
       "    <tr>\n",
       "      <th>White</th>\n",
       "      <td>2</td>\n",
       "      <td>1</td>\n",
       "      <td>0</td>\n",
       "      <td>0</td>\n",
       "    </tr>\n",
       "  </tbody>\n",
       "</table>\n",
       "</div>"
      ],
      "text/plain": [
       "Fuel_Type  Diesel  Electric  Hybrid  Petrol\n",
       "Color                                      \n",
       "Black           2         0       0       0\n",
       "Blue            0         0       0       2\n",
       "Red             0         0       1       1\n",
       "Silver          1         0       0       0\n",
       "White           2         1       0       0"
      ]
     },
     "execution_count": 24,
     "metadata": {},
     "output_type": "execute_result"
    }
   ],
   "source": [
    "pd.crosstab(exported_data[\"Color\"] , exported_data[\"Fuel_Type\"])"
   ]
  },
  {
   "cell_type": "code",
   "execution_count": 25,
   "id": "068a3150",
   "metadata": {
    "execution": {
     "iopub.execute_input": "2025-10-24T17:13:42.987006Z",
     "iopub.status.busy": "2025-10-24T17:13:42.986374Z",
     "iopub.status.idle": "2025-10-24T17:13:43.001694Z",
     "shell.execute_reply": "2025-10-24T17:13:43.000882Z"
    },
    "papermill": {
     "duration": 0.02793,
     "end_time": "2025-10-24T17:13:43.003060",
     "exception": false,
     "start_time": "2025-10-24T17:13:42.975130",
     "status": "completed"
    },
    "tags": []
   },
   "outputs": [
    {
     "data": {
      "text/html": [
       "<div>\n",
       "<style scoped>\n",
       "    .dataframe tbody tr th:only-of-type {\n",
       "        vertical-align: middle;\n",
       "    }\n",
       "\n",
       "    .dataframe tbody tr th {\n",
       "        vertical-align: top;\n",
       "    }\n",
       "\n",
       "    .dataframe thead th {\n",
       "        text-align: right;\n",
       "    }\n",
       "</style>\n",
       "<table border=\"1\" class=\"dataframe\">\n",
       "  <thead>\n",
       "    <tr style=\"text-align: right;\">\n",
       "      <th></th>\n",
       "      <th>Model</th>\n",
       "      <th>Year</th>\n",
       "      <th>Region</th>\n",
       "      <th>Color</th>\n",
       "      <th>Fuel_Type</th>\n",
       "      <th>Transmission</th>\n",
       "      <th>Engine_Size_L</th>\n",
       "      <th>Mileage_KM</th>\n",
       "      <th>Price_USD</th>\n",
       "      <th>Sales_Volume</th>\n",
       "      <th>Sales_Classification</th>\n",
       "    </tr>\n",
       "  </thead>\n",
       "  <tbody>\n",
       "    <tr>\n",
       "      <th>0</th>\n",
       "      <td>5 Series</td>\n",
       "      <td>2016</td>\n",
       "      <td>Asia</td>\n",
       "      <td>Red</td>\n",
       "      <td>Petrol</td>\n",
       "      <td>Manual</td>\n",
       "      <td>4.5</td>\n",
       "      <td>151748</td>\n",
       "      <td>98740</td>\n",
       "      <td>8300</td>\n",
       "      <td>High</td>\n",
       "    </tr>\n",
       "    <tr>\n",
       "      <th>1</th>\n",
       "      <td>i8</td>\n",
       "      <td>2013</td>\n",
       "      <td>North America</td>\n",
       "      <td>Red</td>\n",
       "      <td>Hybrid</td>\n",
       "      <td>Automatic</td>\n",
       "      <td>2.6</td>\n",
       "      <td>121671</td>\n",
       "      <td>79219</td>\n",
       "      <td>3428</td>\n",
       "      <td>Low</td>\n",
       "    </tr>\n",
       "    <tr>\n",
       "      <th>2</th>\n",
       "      <td>5 Series</td>\n",
       "      <td>2022</td>\n",
       "      <td>North America</td>\n",
       "      <td>Blue</td>\n",
       "      <td>Petrol</td>\n",
       "      <td>Automatic</td>\n",
       "      <td>5.5</td>\n",
       "      <td>10991</td>\n",
       "      <td>113265</td>\n",
       "      <td>6994</td>\n",
       "      <td>Low</td>\n",
       "    </tr>\n",
       "    <tr>\n",
       "      <th>3</th>\n",
       "      <td>X3</td>\n",
       "      <td>2024</td>\n",
       "      <td>Middle East</td>\n",
       "      <td>Blue</td>\n",
       "      <td>Petrol</td>\n",
       "      <td>Automatic</td>\n",
       "      <td>2.7</td>\n",
       "      <td>27255</td>\n",
       "      <td>60971</td>\n",
       "      <td>4047</td>\n",
       "      <td>Low</td>\n",
       "    </tr>\n",
       "    <tr>\n",
       "      <th>4</th>\n",
       "      <td>7 Series</td>\n",
       "      <td>2020</td>\n",
       "      <td>South America</td>\n",
       "      <td>Black</td>\n",
       "      <td>Diesel</td>\n",
       "      <td>Manual</td>\n",
       "      <td>3.1</td>\n",
       "      <td>122131</td>\n",
       "      <td>49898</td>\n",
       "      <td>3080</td>\n",
       "      <td>Low</td>\n",
       "    </tr>\n",
       "  </tbody>\n",
       "</table>\n",
       "</div>"
      ],
      "text/plain": [
       "      Model  Year         Region  Color Fuel_Type Transmission  Engine_Size_L  \\\n",
       "0  5 Series  2016           Asia    Red    Petrol       Manual            4.5   \n",
       "1        i8  2013  North America    Red    Hybrid    Automatic            2.6   \n",
       "2  5 Series  2022  North America   Blue    Petrol    Automatic            5.5   \n",
       "3        X3  2024    Middle East   Blue    Petrol    Automatic            2.7   \n",
       "4  7 Series  2020  South America  Black    Diesel       Manual            3.1   \n",
       "\n",
       "   Mileage_KM  Price_USD  Sales_Volume Sales_Classification  \n",
       "0      151748      98740          8300                 High  \n",
       "1      121671      79219          3428                  Low  \n",
       "2       10991     113265          6994                  Low  \n",
       "3       27255      60971          4047                  Low  \n",
       "4      122131      49898          3080                  Low  "
      ]
     },
     "execution_count": 25,
     "metadata": {},
     "output_type": "execute_result"
    }
   ],
   "source": [
    "# Group By \n",
    "exported_data.groupby([\"Year\"]).mean(numeric_only = True)\n",
    "exported_data.head()\n"
   ]
  },
  {
   "cell_type": "code",
   "execution_count": 26,
   "id": "2fc0a614",
   "metadata": {
    "execution": {
     "iopub.execute_input": "2025-10-24T17:13:43.026392Z",
     "iopub.status.busy": "2025-10-24T17:13:43.025370Z",
     "iopub.status.idle": "2025-10-24T17:13:43.410267Z",
     "shell.execute_reply": "2025-10-24T17:13:43.409273Z"
    },
    "papermill": {
     "duration": 0.397877,
     "end_time": "2025-10-24T17:13:43.411733",
     "exception": false,
     "start_time": "2025-10-24T17:13:43.013856",
     "status": "completed"
    },
    "tags": []
   },
   "outputs": [
    {
     "data": {
      "text/plain": [
       "<Axes: >"
      ]
     },
     "execution_count": 26,
     "metadata": {},
     "output_type": "execute_result"
    },
    {
     "data": {
      "image/png": "[encoded data removed]",
      "text/plain": [
       "<Figure size 640x480 with 1 Axes>"
      ]
     },
     "metadata": {},
     "output_type": "display_data"
    }
   ],
   "source": [
    "%matplotlib inline\n",
    "import matplotlib.pyplot as plt \n",
    "\n",
    "exported_data[\"Mileage_KM\"].plot()"
   ]
  },
  {
   "cell_type": "markdown",
   "id": "7bf2e101",
   "metadata": {
    "papermill": {
     "duration": 0.010868,
     "end_time": "2025-10-24T17:13:43.434122",
     "exception": false,
     "start_time": "2025-10-24T17:13:43.423254",
     "status": "completed"
    },
    "tags": []
   },
   "source": [
    "# Histogram "
   ]
  },
  {
   "cell_type": "code",
   "execution_count": 27,
   "id": "67e8e68f",
   "metadata": {
    "execution": {
     "iopub.execute_input": "2025-10-24T17:13:43.457776Z",
     "iopub.status.busy": "2025-10-24T17:13:43.457095Z",
     "iopub.status.idle": "2025-10-24T17:13:43.645618Z",
     "shell.execute_reply": "2025-10-24T17:13:43.644650Z"
    },
    "papermill": {
     "duration": 0.201944,
     "end_time": "2025-10-24T17:13:43.647099",
     "exception": false,
     "start_time": "2025-10-24T17:13:43.445155",
     "status": "completed"
    },
    "tags": []
   },
   "outputs": [
    {
     "data": {
      "text/plain": [
       "<Axes: >"
      ]
     },
     "execution_count": 27,
     "metadata": {},
     "output_type": "execute_result"
    },
    {
     "data": {
      "image/png": "[encoded data removed]",
      "text/plain": [
       "<Figure size 640x480 with 1 Axes>"
      ]
     },
     "metadata": {},
     "output_type": "display_data"
    }
   ],
   "source": [
    "exported_data[\"Mileage_KM\"].hist()"
   ]
  },
  {
   "cell_type": "code",
   "execution_count": 28,
   "id": "9ee65a67",
   "metadata": {
    "execution": {
     "iopub.execute_input": "2025-10-24T17:13:43.672133Z",
     "iopub.status.busy": "2025-10-24T17:13:43.671478Z",
     "iopub.status.idle": "2025-10-24T17:13:43.686791Z",
     "shell.execute_reply": "2025-10-24T17:13:43.686030Z"
    },
    "papermill": {
     "duration": 0.029183,
     "end_time": "2025-10-24T17:13:43.688199",
     "exception": false,
     "start_time": "2025-10-24T17:13:43.659016",
     "status": "completed"
    },
    "tags": []
   },
   "outputs": [
    {
     "data": {
      "text/html": [
       "<div>\n",
       "<style scoped>\n",
       "    .dataframe tbody tr th:only-of-type {\n",
       "        vertical-align: middle;\n",
       "    }\n",
       "\n",
       "    .dataframe tbody tr th {\n",
       "        vertical-align: top;\n",
       "    }\n",
       "\n",
       "    .dataframe thead th {\n",
       "        text-align: right;\n",
       "    }\n",
       "</style>\n",
       "<table border=\"1\" class=\"dataframe\">\n",
       "  <thead>\n",
       "    <tr style=\"text-align: right;\">\n",
       "      <th>Fuel_Type</th>\n",
       "      <th>Diesel</th>\n",
       "      <th>Electric</th>\n",
       "      <th>Hybrid</th>\n",
       "      <th>Petrol</th>\n",
       "    </tr>\n",
       "    <tr>\n",
       "      <th>Color</th>\n",
       "      <th></th>\n",
       "      <th></th>\n",
       "      <th></th>\n",
       "      <th></th>\n",
       "    </tr>\n",
       "  </thead>\n",
       "  <tbody>\n",
       "    <tr>\n",
       "      <th>Black</th>\n",
       "      <td>2</td>\n",
       "      <td>0</td>\n",
       "      <td>0</td>\n",
       "      <td>0</td>\n",
       "    </tr>\n",
       "    <tr>\n",
       "      <th>Blue</th>\n",
       "      <td>0</td>\n",
       "      <td>0</td>\n",
       "      <td>0</td>\n",
       "      <td>2</td>\n",
       "    </tr>\n",
       "    <tr>\n",
       "      <th>Red</th>\n",
       "      <td>0</td>\n",
       "      <td>0</td>\n",
       "      <td>1</td>\n",
       "      <td>1</td>\n",
       "    </tr>\n",
       "    <tr>\n",
       "      <th>Silver</th>\n",
       "      <td>1</td>\n",
       "      <td>0</td>\n",
       "      <td>0</td>\n",
       "      <td>0</td>\n",
       "    </tr>\n",
       "    <tr>\n",
       "      <th>White</th>\n",
       "      <td>2</td>\n",
       "      <td>1</td>\n",
       "      <td>0</td>\n",
       "      <td>0</td>\n",
       "    </tr>\n",
       "  </tbody>\n",
       "</table>\n",
       "</div>"
      ],
      "text/plain": [
       "Fuel_Type  Diesel  Electric  Hybrid  Petrol\n",
       "Color                                      \n",
       "Black           2         0       0       0\n",
       "Blue            0         0       0       2\n",
       "Red             0         0       1       1\n",
       "Silver          1         0       0       0\n",
       "White           2         1       0       0"
      ]
     },
     "execution_count": 28,
     "metadata": {},
     "output_type": "execute_result"
    }
   ],
   "source": [
    "pd.crosstab(exported_data[\"Color\"] , exported_data[\"Fuel_Type\"])"
   ]
  },
  {
   "cell_type": "markdown",
   "id": "eaf2f886",
   "metadata": {
    "papermill": {
     "duration": 0.011487,
     "end_time": "2025-10-24T17:13:43.711880",
     "exception": false,
     "start_time": "2025-10-24T17:13:43.700393",
     "status": "completed"
    },
    "tags": []
   },
   "source": [
    "# Manipulating Data "
   ]
  },
  {
   "cell_type": "code",
   "execution_count": 29,
   "id": "6d9fa7b5",
   "metadata": {
    "execution": {
     "iopub.execute_input": "2025-10-24T17:13:43.736930Z",
     "iopub.status.busy": "2025-10-24T17:13:43.736283Z",
     "iopub.status.idle": "2025-10-24T17:13:43.741758Z",
     "shell.execute_reply": "2025-10-24T17:13:43.741006Z"
    },
    "papermill": {
     "duration": 0.019563,
     "end_time": "2025-10-24T17:13:43.743147",
     "exception": false,
     "start_time": "2025-10-24T17:13:43.723584",
     "status": "completed"
    },
    "tags": []
   },
   "outputs": [],
   "source": [
    "exported_data.Color.str.upper()\n",
    "# just doing this is not going to apply changes to the main data you need to reassign it \n",
    "\n",
    "# so reassigning it \n",
    "\n",
    "exported_data[\"Color\"] = exported_data[\"Color\"].str.upper() ;\n"
   ]
  },
  {
   "cell_type": "code",
   "execution_count": 30,
   "id": "f9fc7f16",
   "metadata": {
    "execution": {
     "iopub.execute_input": "2025-10-24T17:13:43.767553Z",
     "iopub.status.busy": "2025-10-24T17:13:43.767259Z",
     "iopub.status.idle": "2025-10-24T17:13:43.772795Z",
     "shell.execute_reply": "2025-10-24T17:13:43.771889Z"
    },
    "papermill": {
     "duration": 0.019593,
     "end_time": "2025-10-24T17:13:43.774441",
     "exception": false,
     "start_time": "2025-10-24T17:13:43.754848",
     "status": "completed"
    },
    "tags": []
   },
   "outputs": [],
   "source": [
    "exported_data.loc[[2,5,8] ,\"Mileage_KM\"] = 121671"
   ]
  },
  {
   "cell_type": "code",
   "execution_count": 31,
   "id": "3e14c9cc",
   "metadata": {
    "execution": {
     "iopub.execute_input": "2025-10-24T17:13:43.799638Z",
     "iopub.status.busy": "2025-10-24T17:13:43.799318Z",
     "iopub.status.idle": "2025-10-24T17:13:43.803802Z",
     "shell.execute_reply": "2025-10-24T17:13:43.802918Z"
    },
    "papermill": {
     "duration": 0.018823,
     "end_time": "2025-10-24T17:13:43.805284",
     "exception": false,
     "start_time": "2025-10-24T17:13:43.786461",
     "status": "completed"
    },
    "tags": []
   },
   "outputs": [],
   "source": [
    "Missing_data = exported_data"
   ]
  },
  {
   "cell_type": "code",
   "execution_count": 32,
   "id": "9f9edeba",
   "metadata": {
    "execution": {
     "iopub.execute_input": "2025-10-24T17:13:43.830675Z",
     "iopub.status.busy": "2025-10-24T17:13:43.829857Z",
     "iopub.status.idle": "2025-10-24T17:13:43.836391Z",
     "shell.execute_reply": "2025-10-24T17:13:43.835619Z"
    },
    "papermill": {
     "duration": 0.020653,
     "end_time": "2025-10-24T17:13:43.837803",
     "exception": false,
     "start_time": "2025-10-24T17:13:43.817150",
     "status": "completed"
    },
    "tags": []
   },
   "outputs": [],
   "source": [
    "Missing_data.loc[[2,5,8] , \"Mileage_KM\"] = None\n",
    "Missing_data.loc[Missing_data[\"Color\"] == \"BLACK\", \"Color\"] = None"
   ]
  },
  {
   "cell_type": "markdown",
   "id": "9b2d9e60",
   "metadata": {
    "execution": {
     "iopub.execute_input": "2025-10-24T16:54:37.542746Z",
     "iopub.status.busy": "2025-10-24T16:54:37.542082Z",
     "iopub.status.idle": "2025-10-24T16:54:37.558259Z",
     "shell.execute_reply": "2025-10-24T16:54:37.557219Z",
     "shell.execute_reply.started": "2025-10-24T16:54:37.542722Z"
    },
    "papermill": {
     "duration": 0.011253,
     "end_time": "2025-10-24T17:13:43.860817",
     "exception": false,
     "start_time": "2025-10-24T17:13:43.849564",
     "status": "completed"
    },
    "tags": []
   },
   "source": [
    "# Dealing with Missing data "
   ]
  },
  {
   "cell_type": "code",
   "execution_count": 33,
   "id": "da04aae4",
   "metadata": {
    "execution": {
     "iopub.execute_input": "2025-10-24T17:13:43.885313Z",
     "iopub.status.busy": "2025-10-24T17:13:43.884977Z",
     "iopub.status.idle": "2025-10-24T17:13:43.890037Z",
     "shell.execute_reply": "2025-10-24T17:13:43.889255Z"
    },
    "papermill": {
     "duration": 0.019042,
     "end_time": "2025-10-24T17:13:43.891481",
     "exception": false,
     "start_time": "2025-10-24T17:13:43.872439",
     "status": "completed"
    },
    "tags": []
   },
   "outputs": [],
   "source": [
    "Missing_data[\"Mileage_KM\"] = Missing_data[\"Mileage_KM\"].fillna(Missing_data[\"Mileage_KM\"].mean()) ; "
   ]
  },
  {
   "cell_type": "code",
   "execution_count": 34,
   "id": "cd074beb",
   "metadata": {
    "execution": {
     "iopub.execute_input": "2025-10-24T17:13:43.916680Z",
     "iopub.status.busy": "2025-10-24T17:13:43.916000Z",
     "iopub.status.idle": "2025-10-24T17:13:43.920842Z",
     "shell.execute_reply": "2025-10-24T17:13:43.920077Z"
    },
    "papermill": {
     "duration": 0.018969,
     "end_time": "2025-10-24T17:13:43.922353",
     "exception": false,
     "start_time": "2025-10-24T17:13:43.903384",
     "status": "completed"
    },
    "tags": []
   },
   "outputs": [],
   "source": [
    "Missing_data[\"Color\"] = Missing_data[\"Color\"].fillna(\"Orange\") ; "
   ]
  },
  {
   "cell_type": "code",
   "execution_count": 35,
   "id": "c3e29595",
   "metadata": {
    "execution": {
     "iopub.execute_input": "2025-10-24T17:13:43.947782Z",
     "iopub.status.busy": "2025-10-24T17:13:43.946980Z",
     "iopub.status.idle": "2025-10-24T17:13:43.960464Z",
     "shell.execute_reply": "2025-10-24T17:13:43.959439Z"
    },
    "papermill": {
     "duration": 0.027619,
     "end_time": "2025-10-24T17:13:43.961950",
     "exception": false,
     "start_time": "2025-10-24T17:13:43.934331",
     "status": "completed"
    },
    "tags": []
   },
   "outputs": [
    {
     "data": {
      "text/html": [
       "<div>\n",
       "<style scoped>\n",
       "    .dataframe tbody tr th:only-of-type {\n",
       "        vertical-align: middle;\n",
       "    }\n",
       "\n",
       "    .dataframe tbody tr th {\n",
       "        vertical-align: top;\n",
       "    }\n",
       "\n",
       "    .dataframe thead th {\n",
       "        text-align: right;\n",
       "    }\n",
       "</style>\n",
       "<table border=\"1\" class=\"dataframe\">\n",
       "  <thead>\n",
       "    <tr style=\"text-align: right;\">\n",
       "      <th></th>\n",
       "      <th>Model</th>\n",
       "      <th>Year</th>\n",
       "      <th>Region</th>\n",
       "      <th>Color</th>\n",
       "      <th>Fuel_Type</th>\n",
       "      <th>Transmission</th>\n",
       "      <th>Engine_Size_L</th>\n",
       "      <th>Mileage_KM</th>\n",
       "      <th>Price_USD</th>\n",
       "      <th>Sales_Volume</th>\n",
       "      <th>Sales_Classification</th>\n",
       "    </tr>\n",
       "  </thead>\n",
       "  <tbody>\n",
       "    <tr>\n",
       "      <th>4</th>\n",
       "      <td>7 Series</td>\n",
       "      <td>2020</td>\n",
       "      <td>South America</td>\n",
       "      <td>Orange</td>\n",
       "      <td>Diesel</td>\n",
       "      <td>Manual</td>\n",
       "      <td>3.1</td>\n",
       "      <td>122131.0</td>\n",
       "      <td>49898</td>\n",
       "      <td>3080</td>\n",
       "      <td>Low</td>\n",
       "    </tr>\n",
       "    <tr>\n",
       "      <th>7</th>\n",
       "      <td>M5</td>\n",
       "      <td>2014</td>\n",
       "      <td>Asia</td>\n",
       "      <td>Orange</td>\n",
       "      <td>Diesel</td>\n",
       "      <td>Automatic</td>\n",
       "      <td>2.6</td>\n",
       "      <td>121156.0</td>\n",
       "      <td>102778</td>\n",
       "      <td>632</td>\n",
       "      <td>Low</td>\n",
       "    </tr>\n",
       "  </tbody>\n",
       "</table>\n",
       "</div>"
      ],
      "text/plain": [
       "      Model  Year         Region   Color Fuel_Type Transmission  \\\n",
       "4  7 Series  2020  South America  Orange    Diesel       Manual   \n",
       "7        M5  2014           Asia  Orange    Diesel    Automatic   \n",
       "\n",
       "   Engine_Size_L  Mileage_KM  Price_USD  Sales_Volume Sales_Classification  \n",
       "4            3.1    122131.0      49898          3080                  Low  \n",
       "7            2.6    121156.0     102778           632                  Low  "
      ]
     },
     "execution_count": 35,
     "metadata": {},
     "output_type": "execute_result"
    }
   ],
   "source": [
    "Missing_data[Missing_data[\"Color\"] == \"Orange\"]"
   ]
  },
  {
   "cell_type": "code",
   "execution_count": 36,
   "id": "f3dc8ecb",
   "metadata": {
    "execution": {
     "iopub.execute_input": "2025-10-24T17:13:43.987401Z",
     "iopub.status.busy": "2025-10-24T17:13:43.986876Z",
     "iopub.status.idle": "2025-10-24T17:13:43.992282Z",
     "shell.execute_reply": "2025-10-24T17:13:43.991484Z"
    },
    "papermill": {
     "duration": 0.0197,
     "end_time": "2025-10-24T17:13:43.993686",
     "exception": false,
     "start_time": "2025-10-24T17:13:43.973986",
     "status": "completed"
    },
    "tags": []
   },
   "outputs": [],
   "source": [
    "# This will drop the values with na \n",
    "Missing_data.dropna(inplace = True)"
   ]
  },
  {
   "cell_type": "code",
   "execution_count": 37,
   "id": "7bf02902",
   "metadata": {
    "execution": {
     "iopub.execute_input": "2025-10-24T17:13:44.019021Z",
     "iopub.status.busy": "2025-10-24T17:13:44.018741Z",
     "iopub.status.idle": "2025-10-24T17:13:44.032045Z",
     "shell.execute_reply": "2025-10-24T17:13:44.031274Z"
    },
    "papermill": {
     "duration": 0.027808,
     "end_time": "2025-10-24T17:13:44.033494",
     "exception": false,
     "start_time": "2025-10-24T17:13:44.005686",
     "status": "completed"
    },
    "tags": []
   },
   "outputs": [
    {
     "data": {
      "text/html": [
       "<div>\n",
       "<style scoped>\n",
       "    .dataframe tbody tr th:only-of-type {\n",
       "        vertical-align: middle;\n",
       "    }\n",
       "\n",
       "    .dataframe tbody tr th {\n",
       "        vertical-align: top;\n",
       "    }\n",
       "\n",
       "    .dataframe thead th {\n",
       "        text-align: right;\n",
       "    }\n",
       "</style>\n",
       "<table border=\"1\" class=\"dataframe\">\n",
       "  <thead>\n",
       "    <tr style=\"text-align: right;\">\n",
       "      <th></th>\n",
       "      <th>Model</th>\n",
       "      <th>Year</th>\n",
       "      <th>Region</th>\n",
       "      <th>Color</th>\n",
       "      <th>Fuel_Type</th>\n",
       "      <th>Transmission</th>\n",
       "      <th>Engine_Size_L</th>\n",
       "      <th>Mileage_KM</th>\n",
       "      <th>Price_USD</th>\n",
       "      <th>Sales_Volume</th>\n",
       "      <th>Sales_Classification</th>\n",
       "    </tr>\n",
       "  </thead>\n",
       "  <tbody>\n",
       "    <tr>\n",
       "      <th>0</th>\n",
       "      <td>5 Series</td>\n",
       "      <td>2016</td>\n",
       "      <td>Asia</td>\n",
       "      <td>RED</td>\n",
       "      <td>Petrol</td>\n",
       "      <td>Manual</td>\n",
       "      <td>4.5</td>\n",
       "      <td>151748.000000</td>\n",
       "      <td>98740</td>\n",
       "      <td>8300</td>\n",
       "      <td>High</td>\n",
       "    </tr>\n",
       "    <tr>\n",
       "      <th>1</th>\n",
       "      <td>i8</td>\n",
       "      <td>2013</td>\n",
       "      <td>North America</td>\n",
       "      <td>RED</td>\n",
       "      <td>Hybrid</td>\n",
       "      <td>Automatic</td>\n",
       "      <td>2.6</td>\n",
       "      <td>121671.000000</td>\n",
       "      <td>79219</td>\n",
       "      <td>3428</td>\n",
       "      <td>Low</td>\n",
       "    </tr>\n",
       "    <tr>\n",
       "      <th>2</th>\n",
       "      <td>5 Series</td>\n",
       "      <td>2022</td>\n",
       "      <td>North America</td>\n",
       "      <td>BLUE</td>\n",
       "      <td>Petrol</td>\n",
       "      <td>Automatic</td>\n",
       "      <td>5.5</td>\n",
       "      <td>110914.571429</td>\n",
       "      <td>113265</td>\n",
       "      <td>6994</td>\n",
       "      <td>Low</td>\n",
       "    </tr>\n",
       "    <tr>\n",
       "      <th>3</th>\n",
       "      <td>X3</td>\n",
       "      <td>2024</td>\n",
       "      <td>Middle East</td>\n",
       "      <td>BLUE</td>\n",
       "      <td>Petrol</td>\n",
       "      <td>Automatic</td>\n",
       "      <td>2.7</td>\n",
       "      <td>27255.000000</td>\n",
       "      <td>60971</td>\n",
       "      <td>4047</td>\n",
       "      <td>Low</td>\n",
       "    </tr>\n",
       "    <tr>\n",
       "      <th>4</th>\n",
       "      <td>7 Series</td>\n",
       "      <td>2020</td>\n",
       "      <td>South America</td>\n",
       "      <td>Orange</td>\n",
       "      <td>Diesel</td>\n",
       "      <td>Manual</td>\n",
       "      <td>3.1</td>\n",
       "      <td>122131.000000</td>\n",
       "      <td>49898</td>\n",
       "      <td>3080</td>\n",
       "      <td>Low</td>\n",
       "    </tr>\n",
       "    <tr>\n",
       "      <th>5</th>\n",
       "      <td>5 Series</td>\n",
       "      <td>2017</td>\n",
       "      <td>Middle East</td>\n",
       "      <td>SILVER</td>\n",
       "      <td>Diesel</td>\n",
       "      <td>Manual</td>\n",
       "      <td>2.9</td>\n",
       "      <td>110914.571429</td>\n",
       "      <td>42926</td>\n",
       "      <td>1232</td>\n",
       "      <td>Low</td>\n",
       "    </tr>\n",
       "    <tr>\n",
       "      <th>6</th>\n",
       "      <td>i8</td>\n",
       "      <td>2022</td>\n",
       "      <td>Europe</td>\n",
       "      <td>WHITE</td>\n",
       "      <td>Diesel</td>\n",
       "      <td>Manual</td>\n",
       "      <td>2.8</td>\n",
       "      <td>196741.000000</td>\n",
       "      <td>55064</td>\n",
       "      <td>7949</td>\n",
       "      <td>High</td>\n",
       "    </tr>\n",
       "    <tr>\n",
       "      <th>7</th>\n",
       "      <td>M5</td>\n",
       "      <td>2014</td>\n",
       "      <td>Asia</td>\n",
       "      <td>Orange</td>\n",
       "      <td>Diesel</td>\n",
       "      <td>Automatic</td>\n",
       "      <td>2.6</td>\n",
       "      <td>121156.000000</td>\n",
       "      <td>102778</td>\n",
       "      <td>632</td>\n",
       "      <td>Low</td>\n",
       "    </tr>\n",
       "    <tr>\n",
       "      <th>8</th>\n",
       "      <td>X3</td>\n",
       "      <td>2016</td>\n",
       "      <td>South America</td>\n",
       "      <td>WHITE</td>\n",
       "      <td>Diesel</td>\n",
       "      <td>Automatic</td>\n",
       "      <td>2.7</td>\n",
       "      <td>110914.571429</td>\n",
       "      <td>116482</td>\n",
       "      <td>8944</td>\n",
       "      <td>High</td>\n",
       "    </tr>\n",
       "    <tr>\n",
       "      <th>9</th>\n",
       "      <td>i8</td>\n",
       "      <td>2019</td>\n",
       "      <td>Europe</td>\n",
       "      <td>WHITE</td>\n",
       "      <td>Electric</td>\n",
       "      <td>Manual</td>\n",
       "      <td>4.0</td>\n",
       "      <td>35700.000000</td>\n",
       "      <td>96257</td>\n",
       "      <td>4411</td>\n",
       "      <td>Low</td>\n",
       "    </tr>\n",
       "  </tbody>\n",
       "</table>\n",
       "</div>"
      ],
      "text/plain": [
       "      Model  Year         Region   Color Fuel_Type Transmission  \\\n",
       "0  5 Series  2016           Asia     RED    Petrol       Manual   \n",
       "1        i8  2013  North America     RED    Hybrid    Automatic   \n",
       "2  5 Series  2022  North America    BLUE    Petrol    Automatic   \n",
       "3        X3  2024    Middle East    BLUE    Petrol    Automatic   \n",
       "4  7 Series  2020  South America  Orange    Diesel       Manual   \n",
       "5  5 Series  2017    Middle East  SILVER    Diesel       Manual   \n",
       "6        i8  2022         Europe   WHITE    Diesel       Manual   \n",
       "7        M5  2014           Asia  Orange    Diesel    Automatic   \n",
       "8        X3  2016  South America   WHITE    Diesel    Automatic   \n",
       "9        i8  2019         Europe   WHITE  Electric       Manual   \n",
       "\n",
       "   Engine_Size_L     Mileage_KM  Price_USD  Sales_Volume Sales_Classification  \n",
       "0            4.5  151748.000000      98740          8300                 High  \n",
       "1            2.6  121671.000000      79219          3428                  Low  \n",
       "2            5.5  110914.571429     113265          6994                  Low  \n",
       "3            2.7   27255.000000      60971          4047                  Low  \n",
       "4            3.1  122131.000000      49898          3080                  Low  \n",
       "5            2.9  110914.571429      42926          1232                  Low  \n",
       "6            2.8  196741.000000      55064          7949                 High  \n",
       "7            2.6  121156.000000     102778           632                  Low  \n",
       "8            2.7  110914.571429     116482          8944                 High  \n",
       "9            4.0   35700.000000      96257          4411                  Low  "
      ]
     },
     "execution_count": 37,
     "metadata": {},
     "output_type": "execute_result"
    }
   ],
   "source": [
    "Missing_data "
   ]
  },
  {
   "cell_type": "code",
   "execution_count": null,
   "id": "9897dac2",
   "metadata": {
    "papermill": {
     "duration": 0.013836,
     "end_time": "2025-10-24T17:13:44.060327",
     "exception": false,
     "start_time": "2025-10-24T17:13:44.046491",
     "status": "completed"
    },
    "tags": []
   },
   "outputs": [],
   "source": []
  }
 ],
 "metadata": {
  "kaggle": {
   "accelerator": "none",
   "dataSources": [
    {
     "datasetId": 8310166,
     "sourceId": 13118373,
     "sourceType": "datasetVersion"
    }
   ],
   "dockerImageVersionId": 31153,
   "isGpuEnabled": false,
   "isInternetEnabled": false,
   "language": "python",
   "sourceType": "notebook"
  },
  "kernelspec": {
   "display_name": "Python 3",
   "language": "python",
   "name": "python3"
  },
  "language_info": {
   "codemirror_mode": {
    "name": "ipython",
    "version": 3
   },
   "file_extension": ".py",
   "mimetype": "text/x-python",
   "name": "python",
   "nbconvert_exporter": "python",
   "pygments_lexer": "ipython3",
   "version": "3.11.13"
  },
  "papermill": {
   "default_parameters": {},
   "duration": 9.150821,
   "end_time": "2025-10-24T17:13:44.492005",
   "environment_variables": {},
   "exception": null,
   "input_path": "__notebook__.ipynb",
   "output_path": "__notebook__.ipynb",
   "parameters": {},
   "start_time": "2025-10-24T17:13:35.341184",
   "version": "2.6.0"
  }
 },
 "nbformat": 4,
 "nbformat_minor": 5
}
