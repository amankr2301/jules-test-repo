{
 "cells": [
  {
   "cell_type": "code",
   "execution_count": 1,
   "id": "a34bf206",
   "metadata": {
    "_cell_guid": "b1076dfc-b9ad-4769-8c92-a6c4dae69d19",
    "_uuid": "8f2839f25d086af736a60e9eeb907d3b93b6e0e5",
    "execution": {
     "iopub.execute_input": "2025-10-22T15:14:00.099412Z",
     "iopub.status.busy": "2025-10-22T15:14:00.099029Z",
     "iopub.status.idle": "2025-10-22T15:14:02.125166Z",
     "shell.execute_reply": "2025-10-22T15:14:02.124077Z"
    },
    "papermill": {
     "duration": 2.03319,
     "end_time": "2025-10-22T15:14:02.126871",
     "exception": false,
     "start_time": "2025-10-22T15:14:00.093681",
     "status": "completed"
    },
    "tags": []
   },
   "outputs": [],
   "source": [
    "# This Python 3 environment comes with many helpful analytics libraries installed\n",
    "# It is defined by the kaggle/python Docker image: https://github.com/kaggle/docker-python\n",
    "# For example, here's several helpful packages to load\n",
    "\n",
    "import numpy as np # linear algebra\n",
    "import pandas as pd # data processing, CSV file I/O (e.g. pd.read_csv)\n",
    "\n",
    "# Input data files are available in the read-only \"../input/\" directory\n",
    "# For example, running this (by clicking run or pressing Shift+Enter) will list all files under the input directory\n",
    "\n",
    "import os\n",
    "for dirname, _, filenames in os.walk('/kaggle/input'):\n",
    "    for filename in filenames:\n",
    "        print(os.path.join(dirname, filename))\n",
    "\n",
    "# You can write up to 20GB to the current directory (/kaggle/working/) that gets preserved as output when you create a version using \"Save & Run All\" \n",
    "# You can also write temporary files to /kaggle/temp/, but they won't be saved outside of the current session"
   ]
  },
  {
   "cell_type": "code",
   "execution_count": 2,
   "id": "bc964621",
   "metadata": {
    "execution": {
     "iopub.execute_input": "2025-10-22T15:14:02.135261Z",
     "iopub.status.busy": "2025-10-22T15:14:02.134866Z",
     "iopub.status.idle": "2025-10-22T15:14:02.139641Z",
     "shell.execute_reply": "2025-10-22T15:14:02.138737Z"
    },
    "papermill": {
     "duration": 0.010922,
     "end_time": "2025-10-22T15:14:02.141457",
     "exception": false,
     "start_time": "2025-10-22T15:14:02.130535",
     "status": "completed"
    },
    "tags": []
   },
   "outputs": [],
   "source": [
    "import numpy as np "
   ]
  },
  {
   "cell_type": "code",
   "execution_count": 3,
   "id": "4b9a9faa",
   "metadata": {
    "execution": {
     "iopub.execute_input": "2025-10-22T15:14:02.149830Z",
     "iopub.status.busy": "2025-10-22T15:14:02.149502Z",
     "iopub.status.idle": "2025-10-22T15:14:02.157356Z",
     "shell.execute_reply": "2025-10-22T15:14:02.156426Z"
    },
    "papermill": {
     "duration": 0.013405,
     "end_time": "2025-10-22T15:14:02.158822",
     "exception": false,
     "start_time": "2025-10-22T15:14:02.145417",
     "status": "completed"
    },
    "tags": []
   },
   "outputs": [
    {
     "name": "stdout",
     "output_type": "stream",
     "text": [
      "<class 'numpy.ndarray'>\n"
     ]
    },
    {
     "data": {
      "text/plain": [
       "(5,)"
      ]
     },
     "execution_count": 3,
     "metadata": {},
     "output_type": "execute_result"
    }
   ],
   "source": [
    "#                                         Numpy \n",
    "\n",
    "\n",
    "# creating a numpy 1d array \n",
    "\n",
    "arr1 = np.array([1,2,3,4,5]) ; \n",
    "print(type(arr1)) ; \n",
    "\n",
    "\n",
    "\n",
    "arr1\n",
    "\n",
    "arr1.shape\n",
    "\n",
    "\n",
    "\n"
   ]
  },
  {
   "cell_type": "code",
   "execution_count": 4,
   "id": "86a4141f",
   "metadata": {
    "execution": {
     "iopub.execute_input": "2025-10-22T15:14:02.166670Z",
     "iopub.status.busy": "2025-10-22T15:14:02.166377Z",
     "iopub.status.idle": "2025-10-22T15:14:02.174388Z",
     "shell.execute_reply": "2025-10-22T15:14:02.173506Z"
    },
    "papermill": {
     "duration": 0.013626,
     "end_time": "2025-10-22T15:14:02.175833",
     "exception": false,
     "start_time": "2025-10-22T15:14:02.162207",
     "status": "completed"
    },
    "tags": []
   },
   "outputs": [
    {
     "data": {
      "text/plain": [
       "array([1, 2, 3, 4, 5])"
      ]
     },
     "execution_count": 4,
     "metadata": {},
     "output_type": "execute_result"
    }
   ],
   "source": [
    "#        creating a 2d or more dimensional numpy array \n",
    "\n",
    "arr = np.array([1,2,3,4,5]) ; \n",
    "# reshaping is reshape my arr into 1 row and 5 column \n",
    "arr.reshape(1,5) ;     \n",
    "arr\n",
    "\n",
    "\n"
   ]
  },
  {
   "cell_type": "code",
   "execution_count": 5,
   "id": "045115f1",
   "metadata": {
    "execution": {
     "iopub.execute_input": "2025-10-22T15:14:02.184144Z",
     "iopub.status.busy": "2025-10-22T15:14:02.183861Z",
     "iopub.status.idle": "2025-10-22T15:14:02.189250Z",
     "shell.execute_reply": "2025-10-22T15:14:02.188152Z"
    },
    "papermill": {
     "duration": 0.011362,
     "end_time": "2025-10-22T15:14:02.190769",
     "exception": false,
     "start_time": "2025-10-22T15:14:02.179407",
     "status": "completed"
    },
    "tags": []
   },
   "outputs": [
    {
     "name": "stdout",
     "output_type": "stream",
     "text": [
      "[[1 2 3 4]\n",
      " [5 6 7 8]]\n",
      "(2, 4)\n"
     ]
    }
   ],
   "source": [
    "#  creating multidimensional array without using reshape \n",
    "arr2 = np.array([[1,2,3,4], [5,6,7,8]]) ; \n",
    "print(arr2) ; \n",
    "print(arr2.shape) ; "
   ]
  },
  {
   "cell_type": "code",
   "execution_count": 6,
   "id": "addb5f73",
   "metadata": {
    "execution": {
     "iopub.execute_input": "2025-10-22T15:14:02.199623Z",
     "iopub.status.busy": "2025-10-22T15:14:02.198642Z",
     "iopub.status.idle": "2025-10-22T15:14:02.205401Z",
     "shell.execute_reply": "2025-10-22T15:14:02.204470Z"
    },
    "papermill": {
     "duration": 0.012539,
     "end_time": "2025-10-22T15:14:02.206914",
     "exception": false,
     "start_time": "2025-10-22T15:14:02.194375",
     "status": "completed"
    },
    "tags": []
   },
   "outputs": [
    {
     "data": {
      "text/plain": [
       "array([[0],\n",
       "       [2],\n",
       "       [4],\n",
       "       [6],\n",
       "       [8]])"
      ]
     },
     "execution_count": 6,
     "metadata": {},
     "output_type": "execute_result"
    }
   ],
   "source": [
    "\n",
    "# made an array and reshaped it into 5 rows and 1 column \n",
    "arr = np.arange(0,10,2).reshape(5,1) ; \n",
    "arr"
   ]
  },
  {
   "cell_type": "code",
   "execution_count": 7,
   "id": "997714e0",
   "metadata": {
    "execution": {
     "iopub.execute_input": "2025-10-22T15:14:02.216554Z",
     "iopub.status.busy": "2025-10-22T15:14:02.215575Z",
     "iopub.status.idle": "2025-10-22T15:14:02.223338Z",
     "shell.execute_reply": "2025-10-22T15:14:02.222454Z"
    },
    "papermill": {
     "duration": 0.014162,
     "end_time": "2025-10-22T15:14:02.224848",
     "exception": false,
     "start_time": "2025-10-22T15:14:02.210686",
     "status": "completed"
    },
    "tags": []
   },
   "outputs": [
    {
     "data": {
      "text/plain": [
       "array([[1., 1., 1., 1.],\n",
       "       [1., 1., 1., 1.],\n",
       "       [1., 1., 1., 1.]])"
      ]
     },
     "execution_count": 7,
     "metadata": {},
     "output_type": "execute_result"
    }
   ],
   "source": [
    "ones = np.ones((3,4)) ; \n",
    "ones "
   ]
  },
  {
   "cell_type": "code",
   "execution_count": 8,
   "id": "e57739d8",
   "metadata": {
    "execution": {
     "iopub.execute_input": "2025-10-22T15:14:02.233231Z",
     "iopub.status.busy": "2025-10-22T15:14:02.232934Z",
     "iopub.status.idle": "2025-10-22T15:14:02.239305Z",
     "shell.execute_reply": "2025-10-22T15:14:02.238126Z"
    },
    "papermill": {
     "duration": 0.012316,
     "end_time": "2025-10-22T15:14:02.240840",
     "exception": false,
     "start_time": "2025-10-22T15:14:02.228524",
     "status": "completed"
    },
    "tags": []
   },
   "outputs": [
    {
     "data": {
      "text/plain": [
       "array([[1., 0., 0.],\n",
       "       [0., 1., 0.],\n",
       "       [0., 0., 1.]])"
      ]
     },
     "execution_count": 8,
     "metadata": {},
     "output_type": "execute_result"
    }
   ],
   "source": [
    "#     identity matrix \n",
    "\n",
    "i = np.eye(3) ; \n",
    "i"
   ]
  },
  {
   "cell_type": "code",
   "execution_count": 9,
   "id": "1f7ec857",
   "metadata": {
    "execution": {
     "iopub.execute_input": "2025-10-22T15:14:02.249497Z",
     "iopub.status.busy": "2025-10-22T15:14:02.249205Z",
     "iopub.status.idle": "2025-10-22T15:14:02.258277Z",
     "shell.execute_reply": "2025-10-22T15:14:02.257156Z"
    },
    "papermill": {
     "duration": 0.015044,
     "end_time": "2025-10-22T15:14:02.259672",
     "exception": false,
     "start_time": "2025-10-22T15:14:02.244628",
     "status": "completed"
    },
    "tags": []
   },
   "outputs": [
    {
     "name": "stdout",
     "output_type": "stream",
     "text": [
      "\n",
      "Addition [[ 2  4  6  8 10]\n",
      " [ 2  4  6  8 10]]\n",
      "\n",
      "substraction [[0 0 0 0 0]\n",
      " [0 0 0 0 0]]\n",
      "\n",
      "Element wise multiplication  [[ 1  4  9 16 25]\n",
      " [ 1  4  9 16 25]]\n"
     ]
    }
   ],
   "source": [
    "#  Numpy vectorized operation \n",
    "import numpy as np \n",
    "arr1 = np.array([[1,2,3,4,5],[1,2,3,4,5]]) ; \n",
    "arr2  = np.array([[1,2,3,4,5],[1,2,3,4,5]]) ; \n",
    "\n",
    "print() ; \n",
    "print(\"Addition\" , arr1+arr2) ; \n",
    "print() ; \n",
    "print(\"substraction\" , arr1-arr2) ; \n",
    "# Element wise multiplication\n",
    "print() ; \n",
    "print(\"Element wise multiplication \" , arr1 * arr2) ; \n"
   ]
  },
  {
   "cell_type": "code",
   "execution_count": 10,
   "id": "dbecd5cd",
   "metadata": {
    "execution": {
     "iopub.execute_input": "2025-10-22T15:14:02.268789Z",
     "iopub.status.busy": "2025-10-22T15:14:02.268118Z",
     "iopub.status.idle": "2025-10-22T15:14:02.289037Z",
     "shell.execute_reply": "2025-10-22T15:14:02.287904Z"
    },
    "papermill": {
     "duration": 0.026965,
     "end_time": "2025-10-22T15:14:02.290477",
     "exception": false,
     "start_time": "2025-10-22T15:14:02.263512",
     "status": "completed"
    },
    "tags": []
   },
   "outputs": [
    {
     "name": "stdout",
     "output_type": "stream",
     "text": [
      "[0.         5.47722558 7.74596669 9.48683298]\n",
      "[      -inf 3.40119738 4.09434456 4.49980967]\n",
      "[1.00000000e+00 1.06864746e+13 1.14200739e+26 1.22040329e+39]\n",
      "[ 0.         -0.98803162 -0.30481062  0.89399666]\n"
     ]
    }
   ],
   "source": [
    "# universal function \n",
    "\n",
    "arr = np.array([0,30,60,90]) ; \n",
    "print(np.sqrt(arr)) ; \n",
    "print(np.log(arr)) ; \n",
    "print(np.exp(arr)) ; \n",
    "print(np.sin(arr))"
   ]
  },
  {
   "cell_type": "code",
   "execution_count": 11,
   "id": "34c1b0cd",
   "metadata": {
    "execution": {
     "iopub.execute_input": "2025-10-22T15:14:02.299528Z",
     "iopub.status.busy": "2025-10-22T15:14:02.298881Z",
     "iopub.status.idle": "2025-10-22T15:14:02.305622Z",
     "shell.execute_reply": "2025-10-22T15:14:02.304939Z"
    },
    "papermill": {
     "duration": 0.012819,
     "end_time": "2025-10-22T15:14:02.307123",
     "exception": false,
     "start_time": "2025-10-22T15:14:02.294304",
     "status": "completed"
    },
    "tags": []
   },
   "outputs": [
    {
     "data": {
      "text/plain": [
       "array([[3, 4],\n",
       "       [7, 8]])"
      ]
     },
     "execution_count": 11,
     "metadata": {},
     "output_type": "execute_result"
    }
   ],
   "source": [
    "\n",
    "# Slicing \n",
    "\n",
    "arr = np.array([[1,2,3,4] , [5,6,7,8] , [9,10,11,12]]) ; \n",
    "#  this below line tells that go to the second row and go till the end of the row \n",
    "arr[2:]\n",
    "\n",
    "# the below code tries to print 7,8 ,11 ,12 that is start from the first row first row and second column \n",
    "arr[1:,2:]\n",
    "\n",
    "# start reading from zero and before the second column \n",
    "arr[0:2,2:]\n",
    "\n"
   ]
  },
  {
   "cell_type": "code",
   "execution_count": 12,
   "id": "e05072ed",
   "metadata": {
    "execution": {
     "iopub.execute_input": "2025-10-22T15:14:02.316425Z",
     "iopub.status.busy": "2025-10-22T15:14:02.315816Z",
     "iopub.status.idle": "2025-10-22T15:14:02.322143Z",
     "shell.execute_reply": "2025-10-22T15:14:02.321273Z"
    },
    "papermill": {
     "duration": 0.012416,
     "end_time": "2025-10-22T15:14:02.323551",
     "exception": false,
     "start_time": "2025-10-22T15:14:02.311135",
     "status": "completed"
    },
    "tags": []
   },
   "outputs": [
    {
     "data": {
      "text/plain": [
       "array([[100,   2,   3,   4],\n",
       "       [200, 200, 200, 200],\n",
       "       [200, 200, 200, 200]])"
      ]
     },
     "execution_count": 12,
     "metadata": {},
     "output_type": "execute_result"
    }
   ],
   "source": [
    "# Modify the array elements \n",
    "\n",
    "arr[0,0] = 100\n",
    "arr\n",
    "\n",
    "arr[1:] = 200\n",
    "arr "
   ]
  },
  {
   "cell_type": "code",
   "execution_count": 13,
   "id": "de42808b",
   "metadata": {
    "execution": {
     "iopub.execute_input": "2025-10-22T15:14:02.332529Z",
     "iopub.status.busy": "2025-10-22T15:14:02.332262Z",
     "iopub.status.idle": "2025-10-22T15:14:02.339540Z",
     "shell.execute_reply": "2025-10-22T15:14:02.338410Z"
    },
    "papermill": {
     "duration": 0.013519,
     "end_time": "2025-10-22T15:14:02.341034",
     "exception": false,
     "start_time": "2025-10-22T15:14:02.327515",
     "status": "completed"
    },
    "tags": []
   },
   "outputs": [
    {
     "data": {
      "text/plain": [
       "array([-1.41421356, -0.70710678,  0.        ,  0.70710678,  1.41421356])"
      ]
     },
     "execution_count": 13,
     "metadata": {},
     "output_type": "execute_result"
    }
   ],
   "source": [
    "#  Statistical concepts -- Normalization \n",
    "# to have a mean of  0 and standard deviation of 1 \n",
    "data = np.array([1,2,3,4,5])\n",
    "mean = np.mean(data) \n",
    "std_dev = np.std(data) \n",
    "\n",
    "#  the formulae for normalization is (Xi - mean) / standard_deviation \n",
    "\n",
    "normalized_data = (data - mean) / std_dev ; \n",
    "normalized_data \n",
    "\n"
   ]
  },
  {
   "cell_type": "code",
   "execution_count": 14,
   "id": "5cfbd6f7",
   "metadata": {
    "execution": {
     "iopub.execute_input": "2025-10-22T15:14:02.350581Z",
     "iopub.status.busy": "2025-10-22T15:14:02.350285Z",
     "iopub.status.idle": "2025-10-22T15:14:02.356262Z",
     "shell.execute_reply": "2025-10-22T15:14:02.355460Z"
    },
    "papermill": {
     "duration": 0.012469,
     "end_time": "2025-10-22T15:14:02.357525",
     "exception": false,
     "start_time": "2025-10-22T15:14:02.345056",
     "status": "completed"
    },
    "tags": []
   },
   "outputs": [],
   "source": [
    "median = np.median(data)\n",
    "variance = np.var(data) \n",
    "\n",
    "\n",
    "\n",
    "\n",
    " "
   ]
  },
  {
   "cell_type": "code",
   "execution_count": 15,
   "id": "f64f018a",
   "metadata": {
    "execution": {
     "iopub.execute_input": "2025-10-22T15:14:02.366810Z",
     "iopub.status.busy": "2025-10-22T15:14:02.366511Z",
     "iopub.status.idle": "2025-10-22T15:14:02.374862Z",
     "shell.execute_reply": "2025-10-22T15:14:02.373935Z"
    },
    "papermill": {
     "duration": 0.014576,
     "end_time": "2025-10-22T15:14:02.376239",
     "exception": false,
     "start_time": "2025-10-22T15:14:02.361663",
     "status": "completed"
    },
    "tags": []
   },
   "outputs": [
    {
     "data": {
      "text/plain": [
       "array([6, 7, 8])"
      ]
     },
     "execution_count": 15,
     "metadata": {},
     "output_type": "execute_result"
    }
   ],
   "source": [
    "# Logical operations \n",
    "\n",
    "data = np.array([1,2,3,4,5,6,7,8,9,10])\n",
    "data[(data > 5) & (data <= 8)]"
   ]
  },
  {
   "cell_type": "code",
   "execution_count": null,
   "id": "8c234c4b",
   "metadata": {
    "papermill": {
     "duration": 0.003958,
     "end_time": "2025-10-22T15:14:02.384375",
     "exception": false,
     "start_time": "2025-10-22T15:14:02.380417",
     "status": "completed"
    },
    "tags": []
   },
   "outputs": [],
   "source": []
  }
 ],
 "metadata": {
  "kaggle": {
   "accelerator": "none",
   "dataSources": [],
   "dockerImageVersionId": 31153,
   "isGpuEnabled": false,
   "isInternetEnabled": false,
   "language": "python",
   "sourceType": "notebook"
  },
  "kernelspec": {
   "display_name": "Python 3",
   "language": "python",
   "name": "python3"
  },
  "language_info": {
   "codemirror_mode": {
    "name": "ipython",
    "version": 3
   },
   "file_extension": ".py",
   "mimetype": "text/x-python",
   "name": "python",
   "nbconvert_exporter": "python",
   "pygments_lexer": "ipython3",
   "version": "3.11.13"
  },
  "papermill": {
   "default_parameters": {},
   "duration": 7.808735,
   "end_time": "2025-10-22T15:14:02.908067",
   "environment_variables": {},
   "exception": null,
   "input_path": "__notebook__.ipynb",
   "output_path": "__notebook__.ipynb",
   "parameters": {},
   "start_time": "2025-10-22T15:13:55.099332",
   "version": "2.6.0"
  }
 },
 "nbformat": 4,
 "nbformat_minor": 5
}
