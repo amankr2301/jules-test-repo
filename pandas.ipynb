{
 "cells": [
  {
   "cell_type": "code",
   "execution_count": 1,
   "id": "eb50ca60",
   "metadata": {
    "_cell_guid": "b1076dfc-b9ad-4769-8c92-a6c4dae69d19",
    "_uuid": "8f2839f25d086af736a60e9eeb907d3b93b6e0e5",
    "execution": {
     "iopub.execute_input": "2025-10-22T19:47:19.689245Z",
     "iopub.status.busy": "2025-10-22T19:47:19.688372Z",
     "iopub.status.idle": "2025-10-22T19:47:21.573383Z",
     "shell.execute_reply": "2025-10-22T19:47:21.572532Z"
    },
    "papermill": {
     "duration": 1.891976,
     "end_time": "2025-10-22T19:47:21.575083",
     "exception": false,
     "start_time": "2025-10-22T19:47:19.683107",
     "status": "completed"
    },
    "tags": []
   },
   "outputs": [],
   "source": [
    "# This Python 3 environment comes with many helpful analytics libraries installed\n",
    "# It is defined by the kaggle/python Docker image: https://github.com/kaggle/docker-python\n",
    "# For example, here's several helpful packages to load\n",
    "\n",
    "import numpy as np # linear algebra\n",
    "import pandas as pd # data processing, CSV file I/O (e.g. pd.read_csv)\n",
    "\n",
    "# Input data files are available in the read-only \"../input/\" directory\n",
    "# For example, running this (by clicking run or pressing Shift+Enter) will list all files under the input directory\n",
    "\n",
    "import os\n",
    "for dirname, _, filenames in os.walk('/kaggle/input'):\n",
    "    for filename in filenames:\n",
    "        print(os.path.join(dirname, filename))\n",
    "\n",
    "# You can write up to 20GB to the current directory (/kaggle/working/) that gets preserved as output when you create a version using \"Save & Run All\" \n",
    "# You can also write temporary files to /kaggle/temp/, but they won't be saved outside of the current session"
   ]
  },
  {
   "cell_type": "code",
   "execution_count": 2,
   "id": "d50052f1",
   "metadata": {
    "execution": {
     "iopub.execute_input": "2025-10-22T19:47:21.584272Z",
     "iopub.status.busy": "2025-10-22T19:47:21.583098Z",
     "iopub.status.idle": "2025-10-22T19:47:21.587700Z",
     "shell.execute_reply": "2025-10-22T19:47:21.586838Z"
    },
    "papermill": {
     "duration": 0.0104,
     "end_time": "2025-10-22T19:47:21.589190",
     "exception": false,
     "start_time": "2025-10-22T19:47:21.578790",
     "status": "completed"
    },
    "tags": []
   },
   "outputs": [],
   "source": [
    "# Pandas is a data manipulation library in python, used for data analysis and data cleaning.\n",
    "# It provides two data structures series and dataframe \n",
    "# Series:- one dimensional array like object \n",
    "# Dataframe:- Two dimensional , size-mutable , and potentially hetrogeneous tabular data structure \n",
    "# with labelled axis "
   ]
  },
  {
   "cell_type": "code",
   "execution_count": 3,
   "id": "44d9fa54",
   "metadata": {
    "execution": {
     "iopub.execute_input": "2025-10-22T19:47:21.597134Z",
     "iopub.status.busy": "2025-10-22T19:47:21.596817Z",
     "iopub.status.idle": "2025-10-22T19:47:21.600970Z",
     "shell.execute_reply": "2025-10-22T19:47:21.600204Z"
    },
    "papermill": {
     "duration": 0.009672,
     "end_time": "2025-10-22T19:47:21.602436",
     "exception": false,
     "start_time": "2025-10-22T19:47:21.592764",
     "status": "completed"
    },
    "tags": []
   },
   "outputs": [],
   "source": [
    "import pandas as pd "
   ]
  },
  {
   "cell_type": "code",
   "execution_count": 4,
   "id": "d0cc152f",
   "metadata": {
    "execution": {
     "iopub.execute_input": "2025-10-22T19:47:21.610296Z",
     "iopub.status.busy": "2025-10-22T19:47:21.609959Z",
     "iopub.status.idle": "2025-10-22T19:47:21.619644Z",
     "shell.execute_reply": "2025-10-22T19:47:21.618786Z"
    },
    "papermill": {
     "duration": 0.015289,
     "end_time": "2025-10-22T19:47:21.621087",
     "exception": false,
     "start_time": "2025-10-22T19:47:21.605798",
     "status": "completed"
    },
    "tags": []
   },
   "outputs": [
    {
     "data": {
      "text/plain": [
       "0    1\n",
       "1    2\n",
       "2    3\n",
       "dtype: int64"
      ]
     },
     "execution_count": 4,
     "metadata": {},
     "output_type": "execute_result"
    }
   ],
   "source": [
    "series = pd.Series([1,2,3])\n",
    "series "
   ]
  },
  {
   "cell_type": "code",
   "execution_count": 5,
   "id": "79060974",
   "metadata": {
    "execution": {
     "iopub.execute_input": "2025-10-22T19:47:21.629209Z",
     "iopub.status.busy": "2025-10-22T19:47:21.628819Z",
     "iopub.status.idle": "2025-10-22T19:47:21.637507Z",
     "shell.execute_reply": "2025-10-22T19:47:21.636668Z"
    },
    "papermill": {
     "duration": 0.014225,
     "end_time": "2025-10-22T19:47:21.638798",
     "exception": false,
     "start_time": "2025-10-22T19:47:21.624573",
     "status": "completed"
    },
    "tags": []
   },
   "outputs": [
    {
     "data": {
      "text/plain": [
       "10      Aman\n",
       "20     Pawan\n",
       "30    Anjali\n",
       "dtype: object"
      ]
     },
     "execution_count": 5,
     "metadata": {},
     "output_type": "execute_result"
    }
   ],
   "source": [
    "# series from dictionary \n",
    "data = {10 : 'Aman' , 20: 'Pawan' , 30: 'Anjali'}\n",
    "\n",
    "series = pd.Series(data)\n",
    "series "
   ]
  },
  {
   "cell_type": "code",
   "execution_count": 6,
   "id": "90b07b7b",
   "metadata": {
    "execution": {
     "iopub.execute_input": "2025-10-22T19:47:21.646874Z",
     "iopub.status.busy": "2025-10-22T19:47:21.646585Z",
     "iopub.status.idle": "2025-10-22T19:47:21.656740Z",
     "shell.execute_reply": "2025-10-22T19:47:21.655900Z"
    },
    "papermill": {
     "duration": 0.015936,
     "end_time": "2025-10-22T19:47:21.658328",
     "exception": false,
     "start_time": "2025-10-22T19:47:21.642392",
     "status": "completed"
    },
    "tags": []
   },
   "outputs": [
    {
     "data": {
      "text/plain": [
       "a    10\n",
       "b    20\n",
       "c    30\n",
       "dtype: int64"
      ]
     },
     "execution_count": 6,
     "metadata": {},
     "output_type": "execute_result"
    }
   ],
   "source": [
    "# Another way of making a series \n",
    "data = [10,20,30]\n",
    "index = ['a' , 'b' , 'c']\n",
    "\n",
    "series = pd.Series(data, index) ; \n",
    "\n",
    "series"
   ]
  },
  {
   "cell_type": "code",
   "execution_count": 7,
   "id": "6088f24b",
   "metadata": {
    "execution": {
     "iopub.execute_input": "2025-10-22T19:47:21.666875Z",
     "iopub.status.busy": "2025-10-22T19:47:21.666569Z",
     "iopub.status.idle": "2025-10-22T19:47:21.687477Z",
     "shell.execute_reply": "2025-10-22T19:47:21.686576Z"
    },
    "papermill": {
     "duration": 0.026967,
     "end_time": "2025-10-22T19:47:21.689079",
     "exception": false,
     "start_time": "2025-10-22T19:47:21.662112",
     "status": "completed"
    },
    "tags": []
   },
   "outputs": [
    {
     "data": {
      "text/html": [
       "<div>\n",
       "<style scoped>\n",
       "    .dataframe tbody tr th:only-of-type {\n",
       "        vertical-align: middle;\n",
       "    }\n",
       "\n",
       "    .dataframe tbody tr th {\n",
       "        vertical-align: top;\n",
       "    }\n",
       "\n",
       "    .dataframe thead th {\n",
       "        text-align: right;\n",
       "    }\n",
       "</style>\n",
       "<table border=\"1\" class=\"dataframe\">\n",
       "  <thead>\n",
       "    <tr style=\"text-align: right;\">\n",
       "      <th></th>\n",
       "      <th>Name</th>\n",
       "      <th>Age</th>\n",
       "      <th>city</th>\n",
       "    </tr>\n",
       "  </thead>\n",
       "  <tbody>\n",
       "    <tr>\n",
       "      <th>0</th>\n",
       "      <td>Aman</td>\n",
       "      <td>23</td>\n",
       "      <td>Noida</td>\n",
       "    </tr>\n",
       "    <tr>\n",
       "      <th>1</th>\n",
       "      <td>Pawan</td>\n",
       "      <td>24</td>\n",
       "      <td>Bangalore</td>\n",
       "    </tr>\n",
       "    <tr>\n",
       "      <th>2</th>\n",
       "      <td>Anjali</td>\n",
       "      <td>25</td>\n",
       "      <td>Chennai</td>\n",
       "    </tr>\n",
       "  </tbody>\n",
       "</table>\n",
       "</div>"
      ],
      "text/plain": [
       "     Name  Age       city\n",
       "0    Aman   23      Noida\n",
       "1   Pawan   24  Bangalore\n",
       "2  Anjali   25    Chennai"
      ]
     },
     "execution_count": 7,
     "metadata": {},
     "output_type": "execute_result"
    }
   ],
   "source": [
    "#                                DataFrame \n",
    "data = {\n",
    "    'Name' : ['Aman' , 'Pawan' , 'Anjali'], \n",
    "    'Age' : [23 , 24 , 25], \n",
    "    'city' : ['Noida' , 'Bangalore' , 'Chennai']\n",
    "}\n",
    "\n",
    "\n",
    "df = pd.DataFrame(data)\n",
    "df"
   ]
  },
  {
   "cell_type": "code",
   "execution_count": 8,
   "id": "eed021d8",
   "metadata": {
    "execution": {
     "iopub.execute_input": "2025-10-22T19:47:21.697911Z",
     "iopub.status.busy": "2025-10-22T19:47:21.697599Z",
     "iopub.status.idle": "2025-10-22T19:47:21.704340Z",
     "shell.execute_reply": "2025-10-22T19:47:21.703302Z"
    },
    "papermill": {
     "duration": 0.012711,
     "end_time": "2025-10-22T19:47:21.705778",
     "exception": false,
     "start_time": "2025-10-22T19:47:21.693067",
     "status": "completed"
    },
    "tags": []
   },
   "outputs": [
    {
     "data": {
      "text/plain": [
       "array([['Aman', 23, 'Noida'],\n",
       "       ['Pawan', 24, 'Bangalore'],\n",
       "       ['Anjali', 25, 'Chennai']], dtype=object)"
      ]
     },
     "execution_count": 8,
     "metadata": {},
     "output_type": "execute_result"
    }
   ],
   "source": [
    "# Converting the data frame into numpy array \n",
    "import numpy as np \n",
    "np.array(df)"
   ]
  },
  {
   "cell_type": "code",
   "execution_count": 9,
   "id": "221c9783",
   "metadata": {
    "execution": {
     "iopub.execute_input": "2025-10-22T19:47:21.714654Z",
     "iopub.status.busy": "2025-10-22T19:47:21.714377Z",
     "iopub.status.idle": "2025-10-22T19:47:21.724966Z",
     "shell.execute_reply": "2025-10-22T19:47:21.724020Z"
    },
    "papermill": {
     "duration": 0.016711,
     "end_time": "2025-10-22T19:47:21.726452",
     "exception": false,
     "start_time": "2025-10-22T19:47:21.709741",
     "status": "completed"
    },
    "tags": []
   },
   "outputs": [
    {
     "data": {
      "text/html": [
       "<div>\n",
       "<style scoped>\n",
       "    .dataframe tbody tr th:only-of-type {\n",
       "        vertical-align: middle;\n",
       "    }\n",
       "\n",
       "    .dataframe tbody tr th {\n",
       "        vertical-align: top;\n",
       "    }\n",
       "\n",
       "    .dataframe thead th {\n",
       "        text-align: right;\n",
       "    }\n",
       "</style>\n",
       "<table border=\"1\" class=\"dataframe\">\n",
       "  <thead>\n",
       "    <tr style=\"text-align: right;\">\n",
       "      <th></th>\n",
       "      <th>Name</th>\n",
       "      <th>Age</th>\n",
       "      <th>city</th>\n",
       "    </tr>\n",
       "  </thead>\n",
       "  <tbody>\n",
       "    <tr>\n",
       "      <th>0</th>\n",
       "      <td>Aman</td>\n",
       "      <td>23</td>\n",
       "      <td>Noida</td>\n",
       "    </tr>\n",
       "    <tr>\n",
       "      <th>1</th>\n",
       "      <td>pawan</td>\n",
       "      <td>24</td>\n",
       "      <td>Bangalore</td>\n",
       "    </tr>\n",
       "    <tr>\n",
       "      <th>2</th>\n",
       "      <td>Anjali</td>\n",
       "      <td>25</td>\n",
       "      <td>Chennai</td>\n",
       "    </tr>\n",
       "  </tbody>\n",
       "</table>\n",
       "</div>"
      ],
      "text/plain": [
       "     Name  Age       city\n",
       "0    Aman   23      Noida\n",
       "1   pawan   24  Bangalore\n",
       "2  Anjali   25    Chennai"
      ]
     },
     "execution_count": 9,
     "metadata": {},
     "output_type": "execute_result"
    }
   ],
   "source": [
    "# Create a dataframe from a list of dictionaries \n",
    "data = [\n",
    "    {'Name' : 'Aman' , 'Age': 23 , 'city' : 'Noida'}, \n",
    "    {'Name' : 'pawan' , 'Age': 24 , 'city' : 'Bangalore'},\n",
    "    {'Name' : 'Anjali' , 'Age': 25 , 'city' : 'Chennai'}\n",
    "    \n",
    "]\n",
    "\n",
    "pd.DataFrame(data)\n",
    "    \n"
   ]
  },
  {
   "cell_type": "code",
   "execution_count": 10,
   "id": "6ff71d2a",
   "metadata": {
    "execution": {
     "iopub.execute_input": "2025-10-22T19:47:21.736955Z",
     "iopub.status.busy": "2025-10-22T19:47:21.736533Z",
     "iopub.status.idle": "2025-10-22T19:47:21.746799Z",
     "shell.execute_reply": "2025-10-22T19:47:21.745879Z"
    },
    "papermill": {
     "duration": 0.017812,
     "end_time": "2025-10-22T19:47:21.748317",
     "exception": false,
     "start_time": "2025-10-22T19:47:21.730505",
     "status": "completed"
    },
    "tags": []
   },
   "outputs": [
    {
     "name": "stderr",
     "output_type": "stream",
     "text": [
      "/tmp/ipykernel_13/2861428103.py:8: FutureWarning: Series.__getitem__ treating keys as positions is deprecated. In a future version, integer keys will always be treated as labels (consistent with DataFrame behavior). To access a value by position, use `ser.iloc[pos]`\n",
      "  df.iloc[0][0]\n"
     ]
    },
    {
     "data": {
      "text/plain": [
       "'Aman'"
      ]
     },
     "execution_count": 10,
     "metadata": {},
     "output_type": "execute_result"
    }
   ],
   "source": [
    "# Picking up just one column means actually a series \n",
    "df['Name']\n",
    "\n",
    "# picking up just the nth row \n",
    "df.loc[0]\n",
    "\n",
    "# picking up the element iloc \n",
    "df.iloc[0][0]\n",
    "\n",
    "\n"
   ]
  },
  {
   "cell_type": "code",
   "execution_count": 11,
   "id": "9bd28db4",
   "metadata": {
    "execution": {
     "iopub.execute_input": "2025-10-22T19:47:21.758062Z",
     "iopub.status.busy": "2025-10-22T19:47:21.757260Z",
     "iopub.status.idle": "2025-10-22T19:47:21.763563Z",
     "shell.execute_reply": "2025-10-22T19:47:21.762831Z"
    },
    "papermill": {
     "duration": 0.012427,
     "end_time": "2025-10-22T19:47:21.764810",
     "exception": false,
     "start_time": "2025-10-22T19:47:21.752383",
     "status": "completed"
    },
    "tags": []
   },
   "outputs": [
    {
     "data": {
      "text/plain": [
       "'Anjali'"
      ]
     },
     "execution_count": 11,
     "metadata": {},
     "output_type": "execute_result"
    }
   ],
   "source": [
    "# Accessing a specified element \n",
    "df.at[2,'Name']\n",
    "df.iat[2,0]"
   ]
  },
  {
   "cell_type": "code",
   "execution_count": 12,
   "id": "466c5e70",
   "metadata": {
    "execution": {
     "iopub.execute_input": "2025-10-22T19:47:21.774554Z",
     "iopub.status.busy": "2025-10-22T19:47:21.773777Z",
     "iopub.status.idle": "2025-10-22T19:47:21.783259Z",
     "shell.execute_reply": "2025-10-22T19:47:21.782493Z"
    },
    "papermill": {
     "duration": 0.015532,
     "end_time": "2025-10-22T19:47:21.784551",
     "exception": false,
     "start_time": "2025-10-22T19:47:21.769019",
     "status": "completed"
    },
    "tags": []
   },
   "outputs": [
    {
     "data": {
      "text/html": [
       "<div>\n",
       "<style scoped>\n",
       "    .dataframe tbody tr th:only-of-type {\n",
       "        vertical-align: middle;\n",
       "    }\n",
       "\n",
       "    .dataframe tbody tr th {\n",
       "        vertical-align: top;\n",
       "    }\n",
       "\n",
       "    .dataframe thead th {\n",
       "        text-align: right;\n",
       "    }\n",
       "</style>\n",
       "<table border=\"1\" class=\"dataframe\">\n",
       "  <thead>\n",
       "    <tr style=\"text-align: right;\">\n",
       "      <th></th>\n",
       "      <th>Name</th>\n",
       "      <th>Age</th>\n",
       "      <th>city</th>\n",
       "      <th>Salary</th>\n",
       "    </tr>\n",
       "  </thead>\n",
       "  <tbody>\n",
       "    <tr>\n",
       "      <th>0</th>\n",
       "      <td>Aman</td>\n",
       "      <td>23</td>\n",
       "      <td>Noida</td>\n",
       "      <td>100000</td>\n",
       "    </tr>\n",
       "    <tr>\n",
       "      <th>1</th>\n",
       "      <td>Pawan</td>\n",
       "      <td>24</td>\n",
       "      <td>Bangalore</td>\n",
       "      <td>200000</td>\n",
       "    </tr>\n",
       "    <tr>\n",
       "      <th>2</th>\n",
       "      <td>Anjali</td>\n",
       "      <td>25</td>\n",
       "      <td>Chennai</td>\n",
       "      <td>300000</td>\n",
       "    </tr>\n",
       "  </tbody>\n",
       "</table>\n",
       "</div>"
      ],
      "text/plain": [
       "     Name  Age       city  Salary\n",
       "0    Aman   23      Noida  100000\n",
       "1   Pawan   24  Bangalore  200000\n",
       "2  Anjali   25    Chennai  300000"
      ]
     },
     "execution_count": 12,
     "metadata": {},
     "output_type": "execute_result"
    }
   ],
   "source": [
    "# Data Manipulation with DataFrame\n",
    "\n",
    "# Added a new Column salary \n",
    "df['Salary']= [100000,200000,300000]\n",
    "df"
   ]
  },
  {
   "cell_type": "code",
   "execution_count": 13,
   "id": "80587d14",
   "metadata": {
    "execution": {
     "iopub.execute_input": "2025-10-22T19:47:21.794488Z",
     "iopub.status.busy": "2025-10-22T19:47:21.794186Z",
     "iopub.status.idle": "2025-10-22T19:47:21.812043Z",
     "shell.execute_reply": "2025-10-22T19:47:21.811095Z"
    },
    "papermill": {
     "duration": 0.024556,
     "end_time": "2025-10-22T19:47:21.813465",
     "exception": false,
     "start_time": "2025-10-22T19:47:21.788909",
     "status": "completed"
    },
    "tags": []
   },
   "outputs": [
    {
     "data": {
      "text/html": [
       "<div>\n",
       "<style scoped>\n",
       "    .dataframe tbody tr th:only-of-type {\n",
       "        vertical-align: middle;\n",
       "    }\n",
       "\n",
       "    .dataframe tbody tr th {\n",
       "        vertical-align: top;\n",
       "    }\n",
       "\n",
       "    .dataframe thead th {\n",
       "        text-align: right;\n",
       "    }\n",
       "</style>\n",
       "<table border=\"1\" class=\"dataframe\">\n",
       "  <thead>\n",
       "    <tr style=\"text-align: right;\">\n",
       "      <th></th>\n",
       "      <th>Name</th>\n",
       "      <th>Age</th>\n",
       "      <th>city</th>\n",
       "    </tr>\n",
       "  </thead>\n",
       "  <tbody>\n",
       "    <tr>\n",
       "      <th>1</th>\n",
       "      <td>Pawan</td>\n",
       "      <td>24</td>\n",
       "      <td>Bangalore</td>\n",
       "    </tr>\n",
       "    <tr>\n",
       "      <th>2</th>\n",
       "      <td>Anjali</td>\n",
       "      <td>25</td>\n",
       "      <td>Chennai</td>\n",
       "    </tr>\n",
       "  </tbody>\n",
       "</table>\n",
       "</div>"
      ],
      "text/plain": [
       "     Name  Age       city\n",
       "1   Pawan   24  Bangalore\n",
       "2  Anjali   25    Chennai"
      ]
     },
     "execution_count": 13,
     "metadata": {},
     "output_type": "execute_result"
    }
   ],
   "source": [
    "# Removing a column \n",
    "\n",
    "# Here axis = 1 means changing the default value from axis = 0 which is to check the row index and \n",
    "# axis = 1 tells to check the column However this is not permanent deletion if you want permanent \n",
    "# deletion write inplace = True \n",
    "df.drop('Salary' , axis = 1 , inplace = True)\n",
    "\n",
    "# dropping a row however its not permanent similar to romoving the column so you need to write \n",
    "# inplace = True to do it permanently  \n",
    "df.drop(0)\n"
   ]
  },
  {
   "cell_type": "code",
   "execution_count": 14,
   "id": "34245d5e",
   "metadata": {
    "execution": {
     "iopub.execute_input": "2025-10-22T19:47:21.823453Z",
     "iopub.status.busy": "2025-10-22T19:47:21.823149Z",
     "iopub.status.idle": "2025-10-22T19:47:21.830837Z",
     "shell.execute_reply": "2025-10-22T19:47:21.830158Z"
    },
    "papermill": {
     "duration": 0.014129,
     "end_time": "2025-10-22T19:47:21.832062",
     "exception": false,
     "start_time": "2025-10-22T19:47:21.817933",
     "status": "completed"
    },
    "tags": []
   },
   "outputs": [
    {
     "data": {
      "text/html": [
       "<div>\n",
       "<style scoped>\n",
       "    .dataframe tbody tr th:only-of-type {\n",
       "        vertical-align: middle;\n",
       "    }\n",
       "\n",
       "    .dataframe tbody tr th {\n",
       "        vertical-align: top;\n",
       "    }\n",
       "\n",
       "    .dataframe thead th {\n",
       "        text-align: right;\n",
       "    }\n",
       "</style>\n",
       "<table border=\"1\" class=\"dataframe\">\n",
       "  <thead>\n",
       "    <tr style=\"text-align: right;\">\n",
       "      <th></th>\n",
       "      <th>Name</th>\n",
       "      <th>Age</th>\n",
       "      <th>city</th>\n",
       "    </tr>\n",
       "  </thead>\n",
       "  <tbody>\n",
       "    <tr>\n",
       "      <th>0</th>\n",
       "      <td>Aman</td>\n",
       "      <td>23</td>\n",
       "      <td>Noida</td>\n",
       "    </tr>\n",
       "    <tr>\n",
       "      <th>1</th>\n",
       "      <td>Pawan</td>\n",
       "      <td>24</td>\n",
       "      <td>Bangalore</td>\n",
       "    </tr>\n",
       "    <tr>\n",
       "      <th>2</th>\n",
       "      <td>Anjali</td>\n",
       "      <td>25</td>\n",
       "      <td>Chennai</td>\n",
       "    </tr>\n",
       "  </tbody>\n",
       "</table>\n",
       "</div>"
      ],
      "text/plain": [
       "     Name  Age       city\n",
       "0    Aman   23      Noida\n",
       "1   Pawan   24  Bangalore\n",
       "2  Anjali   25    Chennai"
      ]
     },
     "execution_count": 14,
     "metadata": {},
     "output_type": "execute_result"
    }
   ],
   "source": [
    "df\n"
   ]
  },
  {
   "cell_type": "code",
   "execution_count": 15,
   "id": "ca8ba0aa",
   "metadata": {
    "execution": {
     "iopub.execute_input": "2025-10-22T19:47:21.842039Z",
     "iopub.status.busy": "2025-10-22T19:47:21.841720Z",
     "iopub.status.idle": "2025-10-22T19:47:21.846484Z",
     "shell.execute_reply": "2025-10-22T19:47:21.845661Z"
    },
    "papermill": {
     "duration": 0.01113,
     "end_time": "2025-10-22T19:47:21.847744",
     "exception": false,
     "start_time": "2025-10-22T19:47:21.836614",
     "status": "completed"
    },
    "tags": []
   },
   "outputs": [],
   "source": [
    "# Add Age to the column \n",
    "df['Age'] += 1"
   ]
  },
  {
   "cell_type": "code",
   "execution_count": 16,
   "id": "11c28e24",
   "metadata": {
    "execution": {
     "iopub.execute_input": "2025-10-22T19:47:21.857628Z",
     "iopub.status.busy": "2025-10-22T19:47:21.857335Z",
     "iopub.status.idle": "2025-10-22T19:47:21.871917Z",
     "shell.execute_reply": "2025-10-22T19:47:21.871017Z"
    },
    "papermill": {
     "duration": 0.021174,
     "end_time": "2025-10-22T19:47:21.873359",
     "exception": false,
     "start_time": "2025-10-22T19:47:21.852185",
     "status": "completed"
    },
    "tags": []
   },
   "outputs": [
    {
     "name": "stdout",
     "output_type": "stream",
     "text": [
      "Data types :\n",
      " Name    object\n",
      "Age      int64\n",
      "city    object\n",
      "dtype: object\n",
      "Statistical Summary: \n",
      "         Age\n",
      "count   3.0\n",
      "mean   25.0\n",
      "std     1.0\n",
      "min    24.0\n",
      "25%    24.5\n",
      "50%    25.0\n",
      "75%    25.5\n",
      "max    26.0\n"
     ]
    }
   ],
   "source": [
    "# Display the datatypes of each column \n",
    "print(\"Data types :\\n\" , df.dtypes) ; \n",
    "\n",
    "# Display the DataFrame\n",
    "print(\"Statistical Summary: \\n\" , df.describe())"
   ]
  },
  {
   "cell_type": "code",
   "execution_count": null,
   "id": "1b1c26a2",
   "metadata": {
    "papermill": {
     "duration": 0.004186,
     "end_time": "2025-10-22T19:47:21.882132",
     "exception": false,
     "start_time": "2025-10-22T19:47:21.877946",
     "status": "completed"
    },
    "tags": []
   },
   "outputs": [],
   "source": []
  }
 ],
 "metadata": {
  "kaggle": {
   "accelerator": "none",
   "dataSources": [],
   "dockerImageVersionId": 31153,
   "isGpuEnabled": false,
   "isInternetEnabled": false,
   "language": "python",
   "sourceType": "notebook"
  },
  "kernelspec": {
   "display_name": "Python 3",
   "language": "python",
   "name": "python3"
  },
  "language_info": {
   "codemirror_mode": {
    "name": "ipython",
    "version": 3
   },
   "file_extension": ".py",
   "mimetype": "text/x-python",
   "name": "python",
   "nbconvert_exporter": "python",
   "pygments_lexer": "ipython3",
   "version": "3.11.13"
  },
  "papermill": {
   "default_parameters": {},
   "duration": 7.427963,
   "end_time": "2025-10-22T19:47:22.406474",
   "environment_variables": {},
   "exception": null,
   "input_path": "__notebook__.ipynb",
   "output_path": "__notebook__.ipynb",
   "parameters": {},
   "start_time": "2025-10-22T19:47:14.978511",
   "version": "2.6.0"
  }
 },
 "nbformat": 4,
 "nbformat_minor": 5
}
