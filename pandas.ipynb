{
 "cells": [
  {
   "cell_type": "code",
   "execution_count": 1,
   "id": "70f5be8b",
   "metadata": {
    "_cell_guid": "b1076dfc-b9ad-4769-8c92-a6c4dae69d19",
    "_uuid": "8f2839f25d086af736a60e9eeb907d3b93b6e0e5",
    "execution": {
     "iopub.execute_input": "2025-10-22T17:37:12.564671Z",
     "iopub.status.busy": "2025-10-22T17:37:12.564265Z",
     "iopub.status.idle": "2025-10-22T17:37:14.475327Z",
     "shell.execute_reply": "2025-10-22T17:37:14.474290Z"
    },
    "papermill": {
     "duration": 1.918729,
     "end_time": "2025-10-22T17:37:14.477216",
     "exception": false,
     "start_time": "2025-10-22T17:37:12.558487",
     "status": "completed"
    },
    "tags": []
   },
   "outputs": [],
   "source": [
    "# This Python 3 environment comes with many helpful analytics libraries installed\n",
    "# It is defined by the kaggle/python Docker image: https://github.com/kaggle/docker-python\n",
    "# For example, here's several helpful packages to load\n",
    "\n",
    "import numpy as np # linear algebra\n",
    "import pandas as pd # data processing, CSV file I/O (e.g. pd.read_csv)\n",
    "\n",
    "# Input data files are available in the read-only \"../input/\" directory\n",
    "# For example, running this (by clicking run or pressing Shift+Enter) will list all files under the input directory\n",
    "\n",
    "import os\n",
    "for dirname, _, filenames in os.walk('/kaggle/input'):\n",
    "    for filename in filenames:\n",
    "        print(os.path.join(dirname, filename))\n",
    "\n",
    "# You can write up to 20GB to the current directory (/kaggle/working/) that gets preserved as output when you create a version using \"Save & Run All\" \n",
    "# You can also write temporary files to /kaggle/temp/, but they won't be saved outside of the current session"
   ]
  },
  {
   "cell_type": "code",
   "execution_count": 2,
   "id": "01472ee4",
   "metadata": {
    "execution": {
     "iopub.execute_input": "2025-10-22T17:37:14.486087Z",
     "iopub.status.busy": "2025-10-22T17:37:14.485603Z",
     "iopub.status.idle": "2025-10-22T17:37:14.489684Z",
     "shell.execute_reply": "2025-10-22T17:37:14.488975Z"
    },
    "papermill": {
     "duration": 0.009928,
     "end_time": "2025-10-22T17:37:14.491049",
     "exception": false,
     "start_time": "2025-10-22T17:37:14.481121",
     "status": "completed"
    },
    "tags": []
   },
   "outputs": [],
   "source": [
    "# Pandas is a data manipulation library in python, used for data analysis and data cleaning.\n",
    "# It provides two data structures series and dataframe \n",
    "# Series:- one dimensional array like object \n",
    "# Dataframe:- Two dimensional , size-mutable , and potentially hetrogeneous tabular data structure \n",
    "# with labelled axis "
   ]
  },
  {
   "cell_type": "code",
   "execution_count": 3,
   "id": "2fab66e4",
   "metadata": {
    "execution": {
     "iopub.execute_input": "2025-10-22T17:37:14.499858Z",
     "iopub.status.busy": "2025-10-22T17:37:14.498916Z",
     "iopub.status.idle": "2025-10-22T17:37:14.503300Z",
     "shell.execute_reply": "2025-10-22T17:37:14.502596Z"
    },
    "papermill": {
     "duration": 0.010036,
     "end_time": "2025-10-22T17:37:14.504609",
     "exception": false,
     "start_time": "2025-10-22T17:37:14.494573",
     "status": "completed"
    },
    "tags": []
   },
   "outputs": [],
   "source": [
    "import pandas as pd "
   ]
  },
  {
   "cell_type": "code",
   "execution_count": 4,
   "id": "0b854a15",
   "metadata": {
    "execution": {
     "iopub.execute_input": "2025-10-22T17:37:14.512718Z",
     "iopub.status.busy": "2025-10-22T17:37:14.512026Z",
     "iopub.status.idle": "2025-10-22T17:37:14.522447Z",
     "shell.execute_reply": "2025-10-22T17:37:14.521560Z"
    },
    "papermill": {
     "duration": 0.016045,
     "end_time": "2025-10-22T17:37:14.524022",
     "exception": false,
     "start_time": "2025-10-22T17:37:14.507977",
     "status": "completed"
    },
    "tags": []
   },
   "outputs": [
    {
     "data": {
      "text/plain": [
       "0    1\n",
       "1    2\n",
       "2    3\n",
       "dtype: int64"
      ]
     },
     "execution_count": 4,
     "metadata": {},
     "output_type": "execute_result"
    }
   ],
   "source": [
    "series = pd.Series([1,2,3])\n",
    "series "
   ]
  },
  {
   "cell_type": "code",
   "execution_count": 5,
   "id": "1c242500",
   "metadata": {
    "execution": {
     "iopub.execute_input": "2025-10-22T17:37:14.532005Z",
     "iopub.status.busy": "2025-10-22T17:37:14.531663Z",
     "iopub.status.idle": "2025-10-22T17:37:14.540105Z",
     "shell.execute_reply": "2025-10-22T17:37:14.539349Z"
    },
    "papermill": {
     "duration": 0.013665,
     "end_time": "2025-10-22T17:37:14.541289",
     "exception": false,
     "start_time": "2025-10-22T17:37:14.527624",
     "status": "completed"
    },
    "tags": []
   },
   "outputs": [
    {
     "data": {
      "text/plain": [
       "10      Aman\n",
       "20     Pawan\n",
       "30    Anjali\n",
       "dtype: object"
      ]
     },
     "execution_count": 5,
     "metadata": {},
     "output_type": "execute_result"
    }
   ],
   "source": [
    "# series from dictionary \n",
    "data = {10 : 'Aman' , 20: 'Pawan' , 30: 'Anjali'}\n",
    "\n",
    "series = pd.Series(data)\n",
    "series "
   ]
  },
  {
   "cell_type": "code",
   "execution_count": 6,
   "id": "28e6793f",
   "metadata": {
    "execution": {
     "iopub.execute_input": "2025-10-22T17:37:14.549404Z",
     "iopub.status.busy": "2025-10-22T17:37:14.549124Z",
     "iopub.status.idle": "2025-10-22T17:37:14.561062Z",
     "shell.execute_reply": "2025-10-22T17:37:14.560115Z"
    },
    "papermill": {
     "duration": 0.017702,
     "end_time": "2025-10-22T17:37:14.562533",
     "exception": false,
     "start_time": "2025-10-22T17:37:14.544831",
     "status": "completed"
    },
    "tags": []
   },
   "outputs": [
    {
     "data": {
      "text/plain": [
       "a    10\n",
       "b    20\n",
       "c    30\n",
       "dtype: int64"
      ]
     },
     "execution_count": 6,
     "metadata": {},
     "output_type": "execute_result"
    }
   ],
   "source": [
    "# Another way of making a series \n",
    "data = [10,20,30]\n",
    "index = ['a' , 'b' , 'c']\n",
    "\n",
    "series = pd.Series(data, index) ; \n",
    "\n",
    "series"
   ]
  },
  {
   "cell_type": "code",
   "execution_count": 7,
   "id": "6b0db2b3",
   "metadata": {
    "execution": {
     "iopub.execute_input": "2025-10-22T17:37:14.570924Z",
     "iopub.status.busy": "2025-10-22T17:37:14.570596Z",
     "iopub.status.idle": "2025-10-22T17:37:14.590292Z",
     "shell.execute_reply": "2025-10-22T17:37:14.589402Z"
    },
    "papermill": {
     "duration": 0.02537,
     "end_time": "2025-10-22T17:37:14.591719",
     "exception": false,
     "start_time": "2025-10-22T17:37:14.566349",
     "status": "completed"
    },
    "tags": []
   },
   "outputs": [
    {
     "data": {
      "text/html": [
       "<div>\n",
       "<style scoped>\n",
       "    .dataframe tbody tr th:only-of-type {\n",
       "        vertical-align: middle;\n",
       "    }\n",
       "\n",
       "    .dataframe tbody tr th {\n",
       "        vertical-align: top;\n",
       "    }\n",
       "\n",
       "    .dataframe thead th {\n",
       "        text-align: right;\n",
       "    }\n",
       "</style>\n",
       "<table border=\"1\" class=\"dataframe\">\n",
       "  <thead>\n",
       "    <tr style=\"text-align: right;\">\n",
       "      <th></th>\n",
       "      <th>Name</th>\n",
       "      <th>Age</th>\n",
       "      <th>city</th>\n",
       "    </tr>\n",
       "  </thead>\n",
       "  <tbody>\n",
       "    <tr>\n",
       "      <th>0</th>\n",
       "      <td>Aman</td>\n",
       "      <td>23</td>\n",
       "      <td>Noida</td>\n",
       "    </tr>\n",
       "    <tr>\n",
       "      <th>1</th>\n",
       "      <td>Pawan</td>\n",
       "      <td>24</td>\n",
       "      <td>Bangalore</td>\n",
       "    </tr>\n",
       "    <tr>\n",
       "      <th>2</th>\n",
       "      <td>Anjali</td>\n",
       "      <td>25</td>\n",
       "      <td>Chennai</td>\n",
       "    </tr>\n",
       "  </tbody>\n",
       "</table>\n",
       "</div>"
      ],
      "text/plain": [
       "     Name  Age       city\n",
       "0    Aman   23      Noida\n",
       "1   Pawan   24  Bangalore\n",
       "2  Anjali   25    Chennai"
      ]
     },
     "execution_count": 7,
     "metadata": {},
     "output_type": "execute_result"
    }
   ],
   "source": [
    "#                                DataFrame \n",
    "data = {\n",
    "    'Name' : ['Aman' , 'Pawan' , 'Anjali'], \n",
    "    'Age' : [23 , 24 , 25], \n",
    "    'city' : ['Noida' , 'Bangalore' , 'Chennai']\n",
    "}\n",
    "\n",
    "\n",
    "df = pd.DataFrame(data)\n",
    "df"
   ]
  },
  {
   "cell_type": "code",
   "execution_count": 8,
   "id": "06991bba",
   "metadata": {
    "execution": {
     "iopub.execute_input": "2025-10-22T17:37:14.600395Z",
     "iopub.status.busy": "2025-10-22T17:37:14.600075Z",
     "iopub.status.idle": "2025-10-22T17:37:14.606131Z",
     "shell.execute_reply": "2025-10-22T17:37:14.605325Z"
    },
    "papermill": {
     "duration": 0.011994,
     "end_time": "2025-10-22T17:37:14.607573",
     "exception": false,
     "start_time": "2025-10-22T17:37:14.595579",
     "status": "completed"
    },
    "tags": []
   },
   "outputs": [
    {
     "data": {
      "text/plain": [
       "array([['Aman', 23, 'Noida'],\n",
       "       ['Pawan', 24, 'Bangalore'],\n",
       "       ['Anjali', 25, 'Chennai']], dtype=object)"
      ]
     },
     "execution_count": 8,
     "metadata": {},
     "output_type": "execute_result"
    }
   ],
   "source": [
    "# Converting the data frame into numpy array \n",
    "import numpy as np \n",
    "np.array(df)"
   ]
  },
  {
   "cell_type": "code",
   "execution_count": 9,
   "id": "000bba6a",
   "metadata": {
    "execution": {
     "iopub.execute_input": "2025-10-22T17:37:14.616482Z",
     "iopub.status.busy": "2025-10-22T17:37:14.616199Z",
     "iopub.status.idle": "2025-10-22T17:37:14.626641Z",
     "shell.execute_reply": "2025-10-22T17:37:14.625657Z"
    },
    "papermill": {
     "duration": 0.016704,
     "end_time": "2025-10-22T17:37:14.628217",
     "exception": false,
     "start_time": "2025-10-22T17:37:14.611513",
     "status": "completed"
    },
    "tags": []
   },
   "outputs": [
    {
     "data": {
      "text/html": [
       "<div>\n",
       "<style scoped>\n",
       "    .dataframe tbody tr th:only-of-type {\n",
       "        vertical-align: middle;\n",
       "    }\n",
       "\n",
       "    .dataframe tbody tr th {\n",
       "        vertical-align: top;\n",
       "    }\n",
       "\n",
       "    .dataframe thead th {\n",
       "        text-align: right;\n",
       "    }\n",
       "</style>\n",
       "<table border=\"1\" class=\"dataframe\">\n",
       "  <thead>\n",
       "    <tr style=\"text-align: right;\">\n",
       "      <th></th>\n",
       "      <th>Name</th>\n",
       "      <th>Age</th>\n",
       "      <th>city</th>\n",
       "    </tr>\n",
       "  </thead>\n",
       "  <tbody>\n",
       "    <tr>\n",
       "      <th>0</th>\n",
       "      <td>Aman</td>\n",
       "      <td>23</td>\n",
       "      <td>Noida</td>\n",
       "    </tr>\n",
       "    <tr>\n",
       "      <th>1</th>\n",
       "      <td>pawan</td>\n",
       "      <td>24</td>\n",
       "      <td>Bangalore</td>\n",
       "    </tr>\n",
       "    <tr>\n",
       "      <th>2</th>\n",
       "      <td>Anjali</td>\n",
       "      <td>25</td>\n",
       "      <td>Chennai</td>\n",
       "    </tr>\n",
       "  </tbody>\n",
       "</table>\n",
       "</div>"
      ],
      "text/plain": [
       "     Name  Age       city\n",
       "0    Aman   23      Noida\n",
       "1   pawan   24  Bangalore\n",
       "2  Anjali   25    Chennai"
      ]
     },
     "execution_count": 9,
     "metadata": {},
     "output_type": "execute_result"
    }
   ],
   "source": [
    "# Create a dataframe from a list of dictionaries \n",
    "data = [\n",
    "    {'Name' : 'Aman' , 'Age': 23 , 'city' : 'Noida'}, \n",
    "    {'Name' : 'pawan' , 'Age': 24 , 'city' : 'Bangalore'},\n",
    "    {'Name' : 'Anjali' , 'Age': 25 , 'city' : 'Chennai'}\n",
    "    \n",
    "]\n",
    "\n",
    "pd.DataFrame(data)\n",
    "    \n"
   ]
  },
  {
   "cell_type": "code",
   "execution_count": 10,
   "id": "f2b6159f",
   "metadata": {
    "execution": {
     "iopub.execute_input": "2025-10-22T17:37:14.637371Z",
     "iopub.status.busy": "2025-10-22T17:37:14.637068Z",
     "iopub.status.idle": "2025-10-22T17:37:14.647181Z",
     "shell.execute_reply": "2025-10-22T17:37:14.646227Z"
    },
    "papermill": {
     "duration": 0.016317,
     "end_time": "2025-10-22T17:37:14.648498",
     "exception": false,
     "start_time": "2025-10-22T17:37:14.632181",
     "status": "completed"
    },
    "tags": []
   },
   "outputs": [
    {
     "name": "stderr",
     "output_type": "stream",
     "text": [
      "/tmp/ipykernel_13/2861428103.py:8: FutureWarning: Series.__getitem__ treating keys as positions is deprecated. In a future version, integer keys will always be treated as labels (consistent with DataFrame behavior). To access a value by position, use `ser.iloc[pos]`\n",
      "  df.iloc[0][0]\n"
     ]
    },
    {
     "data": {
      "text/plain": [
       "'Aman'"
      ]
     },
     "execution_count": 10,
     "metadata": {},
     "output_type": "execute_result"
    }
   ],
   "source": [
    "# Picking up just one column means actually a series \n",
    "df['Name']\n",
    "\n",
    "# picking up just the nth row \n",
    "df.loc[0]\n",
    "\n",
    "# picking up the element iloc \n",
    "df.iloc[0][0]\n",
    "\n",
    "\n"
   ]
  },
  {
   "cell_type": "code",
   "execution_count": 11,
   "id": "91c7d51c",
   "metadata": {
    "execution": {
     "iopub.execute_input": "2025-10-22T17:37:14.657862Z",
     "iopub.status.busy": "2025-10-22T17:37:14.657481Z",
     "iopub.status.idle": "2025-10-22T17:37:14.663643Z",
     "shell.execute_reply": "2025-10-22T17:37:14.662673Z"
    },
    "papermill": {
     "duration": 0.012648,
     "end_time": "2025-10-22T17:37:14.665184",
     "exception": false,
     "start_time": "2025-10-22T17:37:14.652536",
     "status": "completed"
    },
    "tags": []
   },
   "outputs": [
    {
     "data": {
      "text/plain": [
       "'Anjali'"
      ]
     },
     "execution_count": 11,
     "metadata": {},
     "output_type": "execute_result"
    }
   ],
   "source": [
    "# Accessing a specified element \n",
    "df.at[2,'Name']\n",
    "df.iat[2,0]"
   ]
  },
  {
   "cell_type": "code",
   "execution_count": 12,
   "id": "20c14bbb",
   "metadata": {
    "execution": {
     "iopub.execute_input": "2025-10-22T17:37:14.674729Z",
     "iopub.status.busy": "2025-10-22T17:37:14.674426Z",
     "iopub.status.idle": "2025-10-22T17:37:14.683983Z",
     "shell.execute_reply": "2025-10-22T17:37:14.683203Z"
    },
    "papermill": {
     "duration": 0.015848,
     "end_time": "2025-10-22T17:37:14.685386",
     "exception": false,
     "start_time": "2025-10-22T17:37:14.669538",
     "status": "completed"
    },
    "tags": []
   },
   "outputs": [
    {
     "data": {
      "text/html": [
       "<div>\n",
       "<style scoped>\n",
       "    .dataframe tbody tr th:only-of-type {\n",
       "        vertical-align: middle;\n",
       "    }\n",
       "\n",
       "    .dataframe tbody tr th {\n",
       "        vertical-align: top;\n",
       "    }\n",
       "\n",
       "    .dataframe thead th {\n",
       "        text-align: right;\n",
       "    }\n",
       "</style>\n",
       "<table border=\"1\" class=\"dataframe\">\n",
       "  <thead>\n",
       "    <tr style=\"text-align: right;\">\n",
       "      <th></th>\n",
       "      <th>Name</th>\n",
       "      <th>Age</th>\n",
       "      <th>city</th>\n",
       "      <th>Salary</th>\n",
       "    </tr>\n",
       "  </thead>\n",
       "  <tbody>\n",
       "    <tr>\n",
       "      <th>0</th>\n",
       "      <td>Aman</td>\n",
       "      <td>23</td>\n",
       "      <td>Noida</td>\n",
       "      <td>100000</td>\n",
       "    </tr>\n",
       "    <tr>\n",
       "      <th>1</th>\n",
       "      <td>Pawan</td>\n",
       "      <td>24</td>\n",
       "      <td>Bangalore</td>\n",
       "      <td>200000</td>\n",
       "    </tr>\n",
       "    <tr>\n",
       "      <th>2</th>\n",
       "      <td>Anjali</td>\n",
       "      <td>25</td>\n",
       "      <td>Chennai</td>\n",
       "      <td>300000</td>\n",
       "    </tr>\n",
       "  </tbody>\n",
       "</table>\n",
       "</div>"
      ],
      "text/plain": [
       "     Name  Age       city  Salary\n",
       "0    Aman   23      Noida  100000\n",
       "1   Pawan   24  Bangalore  200000\n",
       "2  Anjali   25    Chennai  300000"
      ]
     },
     "execution_count": 12,
     "metadata": {},
     "output_type": "execute_result"
    }
   ],
   "source": [
    "# Data Manipulation with DataFrame\n",
    "\n",
    "# Added a new Column salary \n",
    "df['Salary']= [100000,200000,300000]\n",
    "df"
   ]
  },
  {
   "cell_type": "code",
   "execution_count": 13,
   "id": "939b3bdb",
   "metadata": {
    "execution": {
     "iopub.execute_input": "2025-10-22T17:37:14.696083Z",
     "iopub.status.busy": "2025-10-22T17:37:14.695185Z",
     "iopub.status.idle": "2025-10-22T17:37:14.713755Z",
     "shell.execute_reply": "2025-10-22T17:37:14.712838Z"
    },
    "papermill": {
     "duration": 0.02531,
     "end_time": "2025-10-22T17:37:14.715188",
     "exception": false,
     "start_time": "2025-10-22T17:37:14.689878",
     "status": "completed"
    },
    "tags": []
   },
   "outputs": [
    {
     "data": {
      "text/html": [
       "<div>\n",
       "<style scoped>\n",
       "    .dataframe tbody tr th:only-of-type {\n",
       "        vertical-align: middle;\n",
       "    }\n",
       "\n",
       "    .dataframe tbody tr th {\n",
       "        vertical-align: top;\n",
       "    }\n",
       "\n",
       "    .dataframe thead th {\n",
       "        text-align: right;\n",
       "    }\n",
       "</style>\n",
       "<table border=\"1\" class=\"dataframe\">\n",
       "  <thead>\n",
       "    <tr style=\"text-align: right;\">\n",
       "      <th></th>\n",
       "      <th>Name</th>\n",
       "      <th>Age</th>\n",
       "      <th>city</th>\n",
       "    </tr>\n",
       "  </thead>\n",
       "  <tbody>\n",
       "    <tr>\n",
       "      <th>1</th>\n",
       "      <td>Pawan</td>\n",
       "      <td>24</td>\n",
       "      <td>Bangalore</td>\n",
       "    </tr>\n",
       "    <tr>\n",
       "      <th>2</th>\n",
       "      <td>Anjali</td>\n",
       "      <td>25</td>\n",
       "      <td>Chennai</td>\n",
       "    </tr>\n",
       "  </tbody>\n",
       "</table>\n",
       "</div>"
      ],
      "text/plain": [
       "     Name  Age       city\n",
       "1   Pawan   24  Bangalore\n",
       "2  Anjali   25    Chennai"
      ]
     },
     "execution_count": 13,
     "metadata": {},
     "output_type": "execute_result"
    }
   ],
   "source": [
    "# Removing a column \n",
    "\n",
    "# Here axis = 1 means changing the default value from axis = 0 which is to check the row index and \n",
    "# axis = 1 tells to check the column However this is not permanent deletion if you want permanent \n",
    "# deletion write inplace = True \n",
    "df.drop('Salary' , axis = 1 , inplace = True)\n",
    "\n",
    "# dropping a row however its not permanent similar to romoving the column so you need to write \n",
    "# inplace = True to do it permanently  \n",
    "df.drop(0)\n"
   ]
  },
  {
   "cell_type": "code",
   "execution_count": 14,
   "id": "ad59abd8",
   "metadata": {
    "execution": {
     "iopub.execute_input": "2025-10-22T17:37:14.725078Z",
     "iopub.status.busy": "2025-10-22T17:37:14.724481Z",
     "iopub.status.idle": "2025-10-22T17:37:14.732691Z",
     "shell.execute_reply": "2025-10-22T17:37:14.731825Z"
    },
    "papermill": {
     "duration": 0.014494,
     "end_time": "2025-10-22T17:37:14.734046",
     "exception": false,
     "start_time": "2025-10-22T17:37:14.719552",
     "status": "completed"
    },
    "tags": []
   },
   "outputs": [
    {
     "data": {
      "text/html": [
       "<div>\n",
       "<style scoped>\n",
       "    .dataframe tbody tr th:only-of-type {\n",
       "        vertical-align: middle;\n",
       "    }\n",
       "\n",
       "    .dataframe tbody tr th {\n",
       "        vertical-align: top;\n",
       "    }\n",
       "\n",
       "    .dataframe thead th {\n",
       "        text-align: right;\n",
       "    }\n",
       "</style>\n",
       "<table border=\"1\" class=\"dataframe\">\n",
       "  <thead>\n",
       "    <tr style=\"text-align: right;\">\n",
       "      <th></th>\n",
       "      <th>Name</th>\n",
       "      <th>Age</th>\n",
       "      <th>city</th>\n",
       "    </tr>\n",
       "  </thead>\n",
       "  <tbody>\n",
       "    <tr>\n",
       "      <th>0</th>\n",
       "      <td>Aman</td>\n",
       "      <td>23</td>\n",
       "      <td>Noida</td>\n",
       "    </tr>\n",
       "    <tr>\n",
       "      <th>1</th>\n",
       "      <td>Pawan</td>\n",
       "      <td>24</td>\n",
       "      <td>Bangalore</td>\n",
       "    </tr>\n",
       "    <tr>\n",
       "      <th>2</th>\n",
       "      <td>Anjali</td>\n",
       "      <td>25</td>\n",
       "      <td>Chennai</td>\n",
       "    </tr>\n",
       "  </tbody>\n",
       "</table>\n",
       "</div>"
      ],
      "text/plain": [
       "     Name  Age       city\n",
       "0    Aman   23      Noida\n",
       "1   Pawan   24  Bangalore\n",
       "2  Anjali   25    Chennai"
      ]
     },
     "execution_count": 14,
     "metadata": {},
     "output_type": "execute_result"
    }
   ],
   "source": [
    "df\n"
   ]
  },
  {
   "cell_type": "code",
   "execution_count": 15,
   "id": "7b3e05fb",
   "metadata": {
    "execution": {
     "iopub.execute_input": "2025-10-22T17:37:14.743830Z",
     "iopub.status.busy": "2025-10-22T17:37:14.743511Z",
     "iopub.status.idle": "2025-10-22T17:37:14.748062Z",
     "shell.execute_reply": "2025-10-22T17:37:14.747289Z"
    },
    "papermill": {
     "duration": 0.011076,
     "end_time": "2025-10-22T17:37:14.749495",
     "exception": false,
     "start_time": "2025-10-22T17:37:14.738419",
     "status": "completed"
    },
    "tags": []
   },
   "outputs": [],
   "source": [
    "# Add Age to the column \n",
    "df['Age'] += 1"
   ]
  },
  {
   "cell_type": "code",
   "execution_count": 16,
   "id": "9f1b7945",
   "metadata": {
    "execution": {
     "iopub.execute_input": "2025-10-22T17:37:14.759617Z",
     "iopub.status.busy": "2025-10-22T17:37:14.759325Z",
     "iopub.status.idle": "2025-10-22T17:37:14.784645Z",
     "shell.execute_reply": "2025-10-22T17:37:14.783572Z"
    },
    "papermill": {
     "duration": 0.032121,
     "end_time": "2025-10-22T17:37:14.786194",
     "exception": false,
     "start_time": "2025-10-22T17:37:14.754073",
     "status": "completed"
    },
    "tags": []
   },
   "outputs": [
    {
     "name": "stdout",
     "output_type": "stream",
     "text": [
      "Data types :\n",
      " Name    object\n",
      "Age      int64\n",
      "city    object\n",
      "dtype: object\n",
      "Statistical Summary: \n",
      "         Age\n",
      "count   3.0\n",
      "mean   25.0\n",
      "std     1.0\n",
      "min    24.0\n",
      "25%    24.5\n",
      "50%    25.0\n",
      "75%    25.5\n",
      "max    26.0\n"
     ]
    }
   ],
   "source": [
    "# Display the datatypes of each column \n",
    "print(\"Data types :\\n\" , df.dtypes) ; \n",
    "\n",
    "# Display the DataFrame\n",
    "print(\"Statistical Summary: \\n\" , df.describe())"
   ]
  },
  {
   "cell_type": "code",
   "execution_count": null,
   "id": "38156910",
   "metadata": {
    "papermill": {
     "duration": 0.004056,
     "end_time": "2025-10-22T17:37:14.794761",
     "exception": false,
     "start_time": "2025-10-22T17:37:14.790705",
     "status": "completed"
    },
    "tags": []
   },
   "outputs": [],
   "source": []
  }
 ],
 "metadata": {
  "kaggle": {
   "accelerator": "none",
   "dataSources": [],
   "dockerImageVersionId": 31153,
   "isGpuEnabled": false,
   "isInternetEnabled": false,
   "language": "python",
   "sourceType": "notebook"
  },
  "kernelspec": {
   "display_name": "Python 3",
   "language": "python",
   "name": "python3"
  },
  "language_info": {
   "codemirror_mode": {
    "name": "ipython",
    "version": 3
   },
   "file_extension": ".py",
   "mimetype": "text/x-python",
   "name": "python",
   "nbconvert_exporter": "python",
   "pygments_lexer": "ipython3",
   "version": "3.11.13"
  },
  "papermill": {
   "default_parameters": {},
   "duration": 7.547568,
   "end_time": "2025-10-22T17:37:15.319256",
   "environment_variables": {},
   "exception": null,
   "input_path": "__notebook__.ipynb",
   "output_path": "__notebook__.ipynb",
   "parameters": {},
   "start_time": "2025-10-22T17:37:07.771688",
   "version": "2.6.0"
  }
 },
 "nbformat": 4,
 "nbformat_minor": 5
}
